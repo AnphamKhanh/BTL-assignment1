{
  "nbformat": 4,
  "nbformat_minor": 0,
  "metadata": {
    "colab": {
      "provenance": [],
      "authorship_tag": "ABX9TyNwsFDCQRTcqx9rSsJq3RLA",
      "include_colab_link": true
    },
    "kernelspec": {
      "name": "python3",
      "display_name": "Python 3"
    },
    "language_info": {
      "name": "python"
    }
  },
  "cells": [
    {
      "cell_type": "markdown",
      "metadata": {
        "id": "view-in-github",
        "colab_type": "text"
      },
      "source": [
        "<a href=\"https://colab.research.google.com/github/AnphamKhanh/Project/blob/master/Assignment1_numpy_pandas.ipynb\" target=\"_parent\"><img src=\"https://colab.research.google.com/assets/colab-badge.svg\" alt=\"Open In Colab\"/></a>"
      ]
    },
    {
      "cell_type": "markdown",
      "source": [
        "- Tiêu chí 1 mở các tệp dữ liệu bên ngoài được yêu cầu:\n",
        " + Có thể đọc tất cả các file được tải về\n",
        " +Sử dụng exception nếu tên của tệp input không tồn tại trong folder dữ liệu (đừng chỉ dùng một loạt các câu lệnh \"if\")"
      ],
      "metadata": {
        "id": "GL9X7rjEApBS"
      }
    },
    {
      "cell_type": "code",
      "execution_count": 175,
      "metadata": {
        "id": "yrchxBNvJasa",
        "colab": {
          "base_uri": "https://localhost:8080/"
        },
        "outputId": "7ed92eb8-ca03-4fbf-83b4-f54c3b2a56a5"
      },
      "outputs": [
        {
          "name": "stdout",
          "output_type": "stream",
          "text": [
            "Pls enter your file name: class3.txt\n"
          ]
        }
      ],
      "source": [
        "filename = input(\"Pls enter your file name: \")\n"
      ]
    },
    {
      "cell_type": "code",
      "source": [
        "path = '/content/sample_data/assignment1/' + str(filename)\n",
        "check_open_list = []\n",
        "\n",
        "#======== Sử dụng try except mở file\n",
        "\n",
        "try:\n",
        "    with open(path,'r') as filename1:\n",
        "      check_open_list.append(\"Successfully opened \" + \"\\n\")\n",
        "      check_open_list.append(\"**** ANALYZING ****\" + \"\\n\")\n",
        "      check_open_list.append(\"No errors found!\" + \"\\n\")\n",
        "except:\n",
        "    check_open_list.append(\"File cannot be found.\" + \"\\n\")\n",
        "    check_open_list.append(\"**** ANALYZING ****\" + \"\\n\")\n",
        "    check_open_list.append(\"Errors found!\" + \"\\n\")\n",
        "for x in check_open_list:\n",
        "    print(x)"
      ],
      "metadata": {
        "colab": {
          "base_uri": "https://localhost:8080/"
        },
        "id": "vN_IZJ0JP8TO",
        "outputId": "2bd3b35a-dc90-4291-8e7b-0f17ac1f0325"
      },
      "execution_count": 176,
      "outputs": [
        {
          "output_type": "stream",
          "name": "stdout",
          "text": [
            "Successfully opened \n",
            "\n",
            "**** ANALYZING ****\n",
            "\n",
            "No errors found!\n",
            "\n"
          ]
        }
      ]
    },
    {
      "cell_type": "markdown",
      "source": [
        "- Tiêu chí 2 Scan file và phân tích\n",
        " + Scan từng dòng trong tệp và đảm bảo format hợp lệ\n",
        " +Báo cáo dữ liệu \"không hợp lệ\" kèm theo lý do\n",
        " +Báo cáo tổng số dòng hợp lệ và số dòng không hợp lệ của dữ liệu lưu trong tệp"
      ],
      "metadata": {
        "id": "rk6dYgH6Bj_l"
      }
    },
    {
      "cell_type": "code",
      "source": [
        "#======== Hàm con trả về lần lượt list các dòng invalid,\n",
        "#======== list các kiểu lỗi tương ứng và tổng số dòng bị lỗi.\n",
        "#======== Cách check dòng invalid: check xem dòng có đủ 25 string \",\" hay không,\n",
        "#======== sau đó check id: Chữ cái đầu tiên là \"N\" hay 8 kí tự sau có ép kiểu về int\n",
        "#======== hay độ dài các ký tự của id không tính ký tự đầu có đủ 8 ký tự hay không?\n",
        "\n",
        "def check_kind_name_error(check_total_line):\n",
        "    num_line_error = 0\n",
        "    list_line_error = []\n",
        "    list_name_error = []\n",
        "    for line in check_total_line:\n",
        "        #======== Check lỗi \"Does not contain exactly 26 values\"\n",
        "        if (line.count(\",\") != 25):\n",
        "            num_line_error+=1\n",
        "            list_line_error.append(line)\n",
        "            list_name_error.append(\"Invalid line of data: does not contain exactly 26 values:\" + \"\\n\")\n",
        "\n",
        "        #======== Check lỗi \"N# is invalid\"\n",
        "        else:\n",
        "            a = list(line.split(\",\"))\n",
        "            b = a[0].replace(\"N\",\"\")\n",
        "            if ( a[0][0] != \"N\" ) or  not(b.isdigit())  or  len(b) != 8 :\n",
        "                num_line_error+=1\n",
        "                list_line_error.append(line)\n",
        "                list_name_error.append(\"Invalid line of data: N# is invalid\" + \"\\n\")\n",
        "            else: pass\n",
        "    return list_line_error, list_name_error, num_line_error"
      ],
      "metadata": {
        "id": "BIhWoScfi7NS"
      },
      "execution_count": 177,
      "outputs": []
    },
    {
      "cell_type": "code",
      "source": [
        "list_line_error = [] #======== list các dòng invalid\n",
        "list_name_error = [] #======== list các kiểu lỗi tương ứng\n",
        "num_line_error = 0   #======== tổng số dòng lỗi\n",
        "\n",
        "#======== Đọc file\n",
        "with open(path,'r') as filename1:\n",
        "    check_total_line = list(filename1.readlines())\n",
        "    number_of_line = len(check_total_line)\n",
        "    check_open_list.append(\"Total lines of data in \" + filename + \": \" + str(number_of_line))\n",
        "    list_line_error, list_name_error, num_line_error = check_kind_name_error(check_total_line)\n",
        "\n",
        "#======== In các thông tin\n",
        "print(\"Number of line invalid: \", num_line_error)\n",
        "print(\"\\n\")\n",
        "print(\"Number of line valid\", number_of_line - num_line_error)\n",
        "print(\"\\n\")\n",
        "for n in range(0, num_line_error):\n",
        "    if n == 0: print(\"Invalid lines and reasons:\\n\")\n",
        "    print(list_name_error[n])\n",
        "    print(list_line_error[n])\n"
      ],
      "metadata": {
        "colab": {
          "base_uri": "https://localhost:8080/"
        },
        "id": "pjBX2rzvUw_K",
        "outputId": "ac41aca2-d634-43ae-a32e-60270ff5cbde"
      },
      "execution_count": 178,
      "outputs": [
        {
          "output_type": "stream",
          "name": "stdout",
          "text": [
            "Number of line invalid:  0\n",
            "\n",
            "\n",
            "Number of line valid 100\n",
            "\n",
            "\n"
          ]
        }
      ]
    },
    {
      "cell_type": "markdown",
      "source": [
        "Tiêu chí 3 Tính tổng điểm học sinh"
      ],
      "metadata": {
        "id": "BddUkxz3_GO_"
      }
    },
    {
      "cell_type": "code",
      "source": [
        "#======== Tạo 1 file temp.txt chứa các danh sách sinh viên hợp lệ\n",
        "list_valid = []\n",
        "for x in check_total_line:\n",
        "    if x in list_line_error: pass\n",
        "    else: list_valid.append(x)\n",
        "\n",
        "path_temp = '/content/sample_data/assignment1/temp.txt'\n",
        "\n",
        "with open(path_temp, 'w') as write_temp:\n",
        "    for x in list_valid:\n",
        "        write_temp.write(x)\n"
      ],
      "metadata": {
        "id": "cIp7wUmb6zoW"
      },
      "execution_count": 179,
      "outputs": []
    },
    {
      "cell_type": "code",
      "source": [
        "import numpy as np\n",
        "import pandas as pd\n",
        "\n",
        "#======== Tạo tên các columns\n",
        "number = list(map(str, range(0,26)))\n",
        "\n",
        "#======== Tạo dataframe từ file temp.txt\n",
        "df =  pd.read_csv(path_temp, sep = ',', names = number)\n",
        "\n",
        "#======== Chọn ra các cột chứa kết quả và không chứa id học sinh\n",
        "number2 = list(map(str, range(1, 26)))\n",
        "\n",
        "#======== Tạo list đáp án\n",
        "answer_key = \"B,A,D,D,C,B,D,A,C,C,D,B,A,B,A,C,B,D,A,C,A,A,B,D,D\"\n",
        "#======== Tạo list các đáp án của học sinh\n",
        "list_answer_key = list(answer_key.split(\",\"))\n",
        "\n",
        "\n",
        "df_2 = df.copy()\n",
        "\n",
        "#======== Các vị trí là Nan sẽ được thay bằng 0\n",
        "df_2[df_2.isna()] = 0\n",
        "\n",
        "#======== Tạo dataframe lấy các cột chưa đáp án\n",
        "data_1_25 = df_2[number2].iloc[:]\n",
        "\n",
        "#======== Các hàng nào chứa giá trị khác đáp án và không bằng 0 thì sẽ bằng -1\n",
        "data_1_25[(data_1_25 != list_answer_key) & (data_1_25 != 0)] = int(-1)\n",
        "\n",
        "#======== các vị trí nào đúng đáp án sẽ bằng 4\n",
        "data_1_25[(data_1_25 == list_answer_key)] = int(4)\n",
        "\n",
        "#======== Tạo cột chứa tổng điểm\n",
        "data_1_25['Total'] = data_1_25.sum(axis=1)\n",
        "\n",
        "print(data_1_25)"
      ],
      "metadata": {
        "id": "4H6SX3g9RqLG",
        "colab": {
          "base_uri": "https://localhost:8080/"
        },
        "outputId": "03bd57ce-d93a-4d94-c5be-8d62b949f43f"
      },
      "execution_count": 180,
      "outputs": [
        {
          "output_type": "stream",
          "name": "stdout",
          "text": [
            "     1   2   3   4   5   6  7   8  9  10  ...  17  18 19 20  21  22 23 24  25  \\\n",
            "0    4   0   4   4   4   4  4   4  4   4  ...   4   4  4  0   0   4  4  4   4   \n",
            "1    4   0   4  -1   4   4  4  -1  4   4  ...   0   4  4  4   0  -1  4  4  -1   \n",
            "2    4   4   4   4   4   4  0  -1  4   4  ...   4   4  4  4   4   4  4  4   4   \n",
            "3   -1   0   4   4   4   4  4   0  4   4  ...  -1   4  4  4   4   4  4  4   4   \n",
            "4    0  -1   0   4   0  -1  4   4  4  -1  ...   4   4  4  4  -1   4  4  4   4   \n",
            "..  ..  ..  ..  ..  ..  .. ..  .. ..  ..  ...  ..  .. .. ..  ..  .. .. ..  ..   \n",
            "95   4   4   4   0  -1   4  4   4  0   4  ...   4  -1  4  4   4  -1  4  0   4   \n",
            "96   4   4   0   4   4   4  4   4  4   4  ...   4  -1  4  4   4   4  4  4   4   \n",
            "97   4   4  -1   4   4   4  4   4  4  -1  ...   4   4  4  4   4  -1  4  4   4   \n",
            "98   0   4   4   0   4   4  4   4  0   4  ...   0   4  4  4   4   4  4  4   4   \n",
            "99   4  -1   4   4   4   4  4   4  4   4  ...   4   4  4  4  -1   0  4  4  -1   \n",
            "\n",
            "   Total  \n",
            "0   83.0  \n",
            "1   59.0  \n",
            "2   86.0  \n",
            "3   78.0  \n",
            "4   58.0  \n",
            "..   ...  \n",
            "95  73.0  \n",
            "96  87.0  \n",
            "97  75.0  \n",
            "98  80.0  \n",
            "99  81.0  \n",
            "\n",
            "[100 rows x 26 columns]\n"
          ]
        }
      ]
    },
    {
      "cell_type": "code",
      "source": [
        "#======== Tạo numpy array từ cột 'Total'\n",
        "mark = np.array(data_1_25['Total'])\n",
        "\n",
        "print(\"Highest_score: \", np.max(mark))\n",
        "print(\"Lowest_score: \", np.min(mark))\n",
        "print(\"Mean_score: \", np.mean(mark))\n",
        "print(\"Median_score: \", (np.median(np.sort(mark))))"
      ],
      "metadata": {
        "colab": {
          "base_uri": "https://localhost:8080/"
        },
        "id": "xHHQyBJl_fMO",
        "outputId": "a31e9e58-f1a0-478f-96fb-d6d87b5a7aab"
      },
      "execution_count": 181,
      "outputs": [
        {
          "output_type": "stream",
          "name": "stdout",
          "text": [
            "Highest_score:  96.0\n",
            "Lowest_score:  56.0\n",
            "Mean_score:  76.24\n",
            "Median_score:  77.0\n"
          ]
        }
      ]
    },
    {
      "cell_type": "markdown",
      "source": [
        "- Tiêu chí 4 Tạo tệp kết quả\n",
        " + Viết kết quả vào tệp (số lượng file xuất ra phải bằng số lượng file nhập vào)\n",
        " + Mỗi dòng chứa số ID của học viên, dấu phẩy, và điểm của họ"
      ],
      "metadata": {
        "id": "HnHSXHeOCyr8"
      }
    },
    {
      "cell_type": "code",
      "source": [
        "#======== Tạo 1 file mới tên class[i]_grades.txt với i là số lớp vào đường dẫn có thư mục mới là grade\n",
        "path_save = '/content/sample_data/assignment1/grade/' + str(filename).replace(\".txt\",\"_grades.txt\")\n",
        "\n",
        "df['Total'] = data_1_25['Total']\n",
        "df_new = df[['0', 'Total']]\n",
        "df_new.columns = df_new.iloc[0]\n",
        "df_new.drop([0], axis = 0, inplace=True)\n",
        "print(df_new)\n",
        "name = df_new.to_string(index=False)\n",
        "\n",
        "#======== Viết vào file các id mà mark của các học sinh hợp lệ\n",
        "with open(path_save, 'w') as file_write:\n",
        "    file_write.write(name)\n",
        ""
      ],
      "metadata": {
        "id": "QWHcCjhcZ-14",
        "colab": {
          "base_uri": "https://localhost:8080/"
        },
        "outputId": "f66da4e9-8a6d-40ef-ee14-100528efb68d"
      },
      "execution_count": 182,
      "outputs": [
        {
          "output_type": "stream",
          "name": "stdout",
          "text": [
            "0   N00000046  83.0\n",
            "1   N00000047  59.0\n",
            "2   N00000048  86.0\n",
            "3   N00000049  78.0\n",
            "4   N00000050  58.0\n",
            "5   N00000051  72.0\n",
            "..        ...   ...\n",
            "95  N00000141  73.0\n",
            "96  N00000142  87.0\n",
            "97  N00000143  75.0\n",
            "98  N00000144  80.0\n",
            "99  N00000145  81.0\n",
            "\n",
            "[99 rows x 2 columns]\n"
          ]
        },
        {
          "output_type": "stream",
          "name": "stderr",
          "text": [
            "<ipython-input-182-bd3f07111dcb>:7: SettingWithCopyWarning: \n",
            "A value is trying to be set on a copy of a slice from a DataFrame\n",
            "\n",
            "See the caveats in the documentation: https://pandas.pydata.org/pandas-docs/stable/user_guide/indexing.html#returning-a-view-versus-a-copy\n",
            "  df_new.drop([0], axis = 0, inplace=True)\n"
          ]
        }
      ]
    }
  ]
}
