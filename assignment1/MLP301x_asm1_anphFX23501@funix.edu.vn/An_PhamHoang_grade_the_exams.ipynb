{
  "nbformat": 4,
  "nbformat_minor": 0,
  "metadata": {
    "colab": {
      "provenance": []
    },
    "kernelspec": {
      "name": "python3",
      "display_name": "Python 3"
    },
    "language_info": {
      "name": "python"
    }
  },
  "cells": [
    {
      "cell_type": "markdown",
      "source": [
        "- Tiêu chí 1 mở các tệp dữ liệu bên ngoài được yêu cầu:\n",
        " + Có thể đọc tất cả các file được tải về\n",
        " +Sử dụng exception nếu tên của tệp input không tồn tại trong folder dữ liệu (đừng chỉ dùng một loạt các câu lệnh \"if\")"
      ],
      "metadata": {
        "id": "GL9X7rjEApBS"
      }
    },
    {
      "cell_type": "code",
      "execution_count": 58,
      "metadata": {
        "id": "yrchxBNvJasa",
        "colab": {
          "base_uri": "https://localhost:8080/"
        },
        "outputId": "1f9278f2-ae2a-4998-c55d-90f6789ce58a"
      },
      "outputs": [
        {
          "name": "stdout",
          "output_type": "stream",
          "text": [
            "Pls enter your file name: class8.txt\n"
          ]
        }
      ],
      "source": [
        "filename = input(\"Pls enter your file name: \")"
      ]
    },
    {
      "cell_type": "code",
      "source": [
        "path = '/content/sample_data/assignment1/' + str(filename)\n",
        "check_open_list = []\n",
        "\n",
        "#======== Sử dụng try except mở file\n",
        "\n",
        "try:\n",
        "    with open(path,'r') as filename1:\n",
        "      check_open_list.append(\"Successfully opened \" + \"\\n\")\n",
        "      check_open_list.append(\"**** ANALYZING ****\" + \"\\n\")\n",
        "      check_open_list.append(\"No errors found!\" + \"\\n\")\n",
        "except:\n",
        "    check_open_list.append(\"File cannot be found.\" + \"\\n\")\n",
        "    check_open_list.append(\"**** ANALYZING ****\" + \"\\n\")\n",
        "    check_open_list.append(\"Errors found!\" + \"\\n\")\n",
        "for x in check_open_list:\n",
        "    print(x)"
      ],
      "metadata": {
        "colab": {
          "base_uri": "https://localhost:8080/"
        },
        "id": "vN_IZJ0JP8TO",
        "outputId": "c4796653-3b4f-4dfe-98a7-de75094a8f47"
      },
      "execution_count": 59,
      "outputs": [
        {
          "output_type": "stream",
          "name": "stdout",
          "text": [
            "Successfully opened \n",
            "\n",
            "**** ANALYZING ****\n",
            "\n",
            "No errors found!\n",
            "\n"
          ]
        }
      ]
    },
    {
      "cell_type": "markdown",
      "source": [
        "- Tiêu chí 2 Scan file và phân tích\n",
        " + Scan từng dòng trong tệp và đảm bảo format hợp lệ\n",
        " +Báo cáo dữ liệu \"không hợp lệ\" kèm theo lý do\n",
        " +Báo cáo tổng số dòng hợp lệ và số dòng không hợp lệ của dữ liệu lưu trong tệp"
      ],
      "metadata": {
        "id": "rk6dYgH6Bj_l"
      }
    },
    {
      "cell_type": "code",
      "source": [
        "#======== Hàm con trả về lần lượt list các dòng invalid,\n",
        "#======== list các kiểu lỗi tương ứng và tổng số dòng bị lỗi.\n",
        "#======== Cách check dòng invalid: check xem dòng có đủ 25 string \",\" hay không,\n",
        "#======== sau đó check id: Chữ cái đầu tiên là \"N\" hay 8 kí tự sau có ép kiểu về int\n",
        "#======== hay độ dài các ký tự của id không tính ký tự đầu có đủ 8 ký tự hay không?\n",
        "\n",
        "def check_kind_name_error(check_total_line):\n",
        "    num_line_error = 0\n",
        "    list_line_error = []\n",
        "    list_name_error = []\n",
        "    for line in check_total_line:\n",
        "        #======== Check lỗi \"Does not contain exactly 26 values\"\n",
        "        if (line.count(\",\") != 25):\n",
        "            num_line_error+=1\n",
        "            list_line_error.append(line)\n",
        "            list_name_error.append(\"Invalid line of data: does not contain exactly 26 values:\" + \"\\n\")\n",
        "\n",
        "        #======== Check lỗi \"N# is invalid\"\n",
        "        else:\n",
        "            a = list(line.split(\",\"))\n",
        "            b = a[0].replace(\"N\",\"\")\n",
        "            if ( a[0][0] != \"N\" ) or  not(b.isdigit())  or  len(b) != 8 :\n",
        "                num_line_error+=1\n",
        "                list_line_error.append(line)\n",
        "                list_name_error.append(\"Invalid line of data: N# is invalid\" + \"\\n\")\n",
        "            else: pass\n",
        "    return list_line_error, list_name_error, num_line_error"
      ],
      "metadata": {
        "id": "BIhWoScfi7NS"
      },
      "execution_count": 60,
      "outputs": []
    },
    {
      "cell_type": "code",
      "source": [
        "list_line_error = [] #======== list các dòng invalid\n",
        "list_name_error = [] #======== list các kiểu lỗi tương ứng\n",
        "num_line_error = 0   #======== tổng số dòng lỗi\n",
        "\n",
        "#======== Đọc file\n",
        "with open(path,'r') as filename1:\n",
        "    check_total_line = list(filename1.readlines())\n",
        "    number_of_line = len(check_total_line)\n",
        "    check_open_list.append(\"Total lines of data in \" + filename + \": \" + str(number_of_line))\n",
        "    list_line_error, list_name_error, num_line_error = check_kind_name_error(check_total_line)\n",
        "\n",
        "#======== In các thông tin\n",
        "print(\"Number of line invalid: \", num_line_error)\n",
        "print(\"\\n\")\n",
        "print(\"Number of line valid\", number_of_line - num_line_error)\n",
        "print(\"\\n\")\n",
        "for n in range(0, num_line_error):\n",
        "    if n == 0: print(\"Invalid lines and reasons:\\n\")\n",
        "    print(list_name_error[n])\n",
        "    print(list_line_error[n])\n"
      ],
      "metadata": {
        "colab": {
          "base_uri": "https://localhost:8080/"
        },
        "id": "pjBX2rzvUw_K",
        "outputId": "a056b9f0-908e-4abf-c307-f8709a5f01d5"
      },
      "execution_count": 61,
      "outputs": [
        {
          "output_type": "stream",
          "name": "stdout",
          "text": [
            "Number of line invalid:  0\n",
            "\n",
            "\n",
            "Number of line valid 49\n",
            "\n",
            "\n"
          ]
        }
      ]
    },
    {
      "cell_type": "markdown",
      "source": [
        "- Tiêu chí 3 Tính toán điểm thi\n",
        " + Chấm điểm bài thi dựa vào tiêu chí đánh giá (rubrics) đã cho\n",
        "\n",
        " + Báo điểm trung bình, điểm cao nhất, thấp nhất, miền giá trị của điểm và giá trị trung vị"
      ],
      "metadata": {
        "id": "1aTv9q2BCk2e"
      }
    },
    {
      "cell_type": "code",
      "source": [
        "#======== Hàm con đầu vào lần lượt là list bài làm của học sinh\n",
        "#======== và list đáp án\n",
        "\n",
        "def cal_mark(list_x2, list_answer_key):\n",
        "    mark = 0\n",
        "    for i in range(0, len(list_answer_key)):\n",
        "\n",
        "        #======== Tính điểm nếu học sinh không trả lời\n",
        "        if (list_x2[i] == ''): pass\n",
        "\n",
        "        #======== Tính điểm học sinh trả lời đúng hoặc sai đáp án\n",
        "        else:\n",
        "            if (list_x2[i] == list_answer_key[i]): mark = mark + 4\n",
        "            elif (list_x2[i] != list_answer_key[i]): mark = mark -1\n",
        "    return mark"
      ],
      "metadata": {
        "id": "aBK9yA1pE5GY"
      },
      "execution_count": 62,
      "outputs": []
    },
    {
      "cell_type": "code",
      "source": [
        "answer_key = \"B,A,D,D,C,B,D,A,C,C,D,B,A,B,A,C,B,D,A,C,A,A,B,D,D\"\n",
        "#======== Tạo list đáp án\n",
        "list_answer_key = list(answer_key.split(\",\"))\n",
        "#======== Tạo list các đáp án của học sinh\n",
        "list_mark = []\n",
        "\n",
        "#======== Kiểm tra dòng có hợp lệ bằng cách xem từng dòng trong file không nằm trong\n",
        "#======== list các dòng invalid\n",
        "\n",
        "for x in check_total_line:\n",
        "    #======== Nếu dòng đó invalid\n",
        "    if x in list_line_error:\n",
        "        pass\n",
        "\n",
        "    #======== Nếu dòng đó valid\n",
        "    else:\n",
        "        list_x2 = list(x.split(\",\"))\n",
        "        #======== Xóa id học sinh\n",
        "        del list_x2[0]\n",
        "        list_x2[-1] = list_x2[-1].replace(\"\\n\",\"\")\n",
        "        list_mark.append(cal_mark(list_x2, list_answer_key))\n",
        "\n",
        "#======== Tính toán và print ra các giá trị lần lượt mean, Min, max, range, median điểm của lớp\n",
        "\n",
        "sort_list_mark = list_mark.copy()\n",
        "sort_list_mark.sort()\n",
        "\n",
        "mean = sum(sort_list_mark)/len(sort_list_mark)\n",
        "highest_score = max(sort_list_mark)\n",
        "lowest_score = min(sort_list_mark)\n",
        "range_score = highest_score - lowest_score\n",
        "\n",
        "# check median\n",
        "position = (len(sort_list_mark) // 2)\n",
        "if ((len(sort_list_mark) % 2) == 1): median = sort_list_mark[position + 1]\n",
        "else: median = ( sort_list_mark[position] + sort_list_mark[position + 1] ) / 2\n",
        "\n",
        "print(\"Mean is: \", mean)\n",
        "print(\"Highest_score is: \", highest_score)\n",
        "print(\"Lowest_score is: \", lowest_score)\n",
        "print(\"Range_score\", range_score)\n",
        "print(\"Median is: \", median)"
      ],
      "metadata": {
        "colab": {
          "base_uri": "https://localhost:8080/"
        },
        "id": "pIYkOPC9J-d8",
        "outputId": "a216c723-2832-45c1-ef4e-149684689005"
      },
      "execution_count": 63,
      "outputs": [
        {
          "output_type": "stream",
          "name": "stdout",
          "text": [
            "Mean is:  76.6734693877551\n",
            "Highest_score is:  92\n",
            "Lowest_score is:  59\n",
            "Range_score 33\n",
            "Median is:  77\n"
          ]
        }
      ]
    },
    {
      "cell_type": "markdown",
      "source": [
        "- Tiêu chí 4 Tạo tệp kết quả\n",
        " + Viết kết quả vào tệp (số lượng file xuất ra phải bằng số lượng file nhập vào)\n",
        " + Mỗi dòng chứa số ID của học viên, dấu phẩy, và điểm của họ"
      ],
      "metadata": {
        "id": "HnHSXHeOCyr8"
      }
    },
    {
      "cell_type": "code",
      "source": [
        "#======== Tạo 1 file mới tên class[i]_grades.txt với i là số lớp vào đường dẫn có thư mục mới là grade\n",
        "path_save = '/content/sample_data/assignment1/grade/' + str(filename).replace(\".txt\",\"_grades.txt\")\n",
        "\n",
        "#======== Vì ở tiêu chí 3 chưa có danh sách các dòng valid nên tạo.\n",
        "list_valid = []\n",
        "for x in check_total_line:\n",
        "    if x in list_line_error: pass\n",
        "    else: list_valid.append(x)\n",
        "\n",
        "#======== Viết vào file các id mà mark của các học sinh hợp lệ\n",
        "with open(path_save, 'w') as file_write:\n",
        "    for index,x in enumerate(list_valid):\n",
        "        list_x = list(x.split(\",\"))\n",
        "        file_write.write(list_x[0])\n",
        "        file_write.write(\" \" + str(list_mark[index]) + \"\\n\")"
      ],
      "metadata": {
        "id": "QWHcCjhcZ-14"
      },
      "execution_count": 64,
      "outputs": []
    }
  ]
}