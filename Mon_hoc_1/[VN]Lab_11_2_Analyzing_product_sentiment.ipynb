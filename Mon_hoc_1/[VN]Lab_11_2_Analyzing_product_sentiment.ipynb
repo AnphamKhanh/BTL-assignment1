{
  "nbformat": 4,
  "nbformat_minor": 0,
  "metadata": {
    "kernelspec": {
      "display_name": "Python 3",
      "language": "python",
      "name": "python3"
    },
    "language_info": {
      "codemirror_mode": {
        "name": "ipython",
        "version": 3
      },
      "file_extension": ".py",
      "mimetype": "text/x-python",
      "name": "python",
      "nbconvert_exporter": "python",
      "pygments_lexer": "ipython3",
      "version": "3.5.2"
    },
    "colab": {
      "provenance": [],
      "include_colab_link": true
    }
  },
  "cells": [
    {
      "cell_type": "markdown",
      "metadata": {
        "id": "view-in-github",
        "colab_type": "text"
      },
      "source": [
        "<a href=\"https://colab.research.google.com/github/AnphamKhanh/Project/blob/master/%5BVN%5DLab_11_2_Analyzing_product_sentiment.ipynb\" target=\"_parent\"><img src=\"https://colab.research.google.com/assets/colab-badge.svg\" alt=\"Open In Colab\"/></a>"
      ]
    },
    {
      "cell_type": "markdown",
      "metadata": {
        "id": "CfYCCpEVRueM"
      },
      "source": [
        "**DIỀN VÀO ...** NẾU BẠN THẤY CÂU **\"WRITE YOUR CODE HERE\"**"
      ]
    },
    {
      "cell_type": "markdown",
      "metadata": {
        "id": "pNc3LcE1mecc"
      },
      "source": [
        "#Phân loại cảm xúc từ các bình luận sản phẩm\n",
        "\n"
      ]
    },
    {
      "cell_type": "code",
      "source": [
        "from google.colab import drive\n",
        "drive.mount('/content/drive')"
      ],
      "metadata": {
        "colab": {
          "base_uri": "https://localhost:8080/"
        },
        "id": "1dp1cxjLC0Y5",
        "outputId": "54e0888c-94e5-4e9d-8771-1621271ea05d"
      },
      "execution_count": null,
      "outputs": [
        {
          "output_type": "stream",
          "name": "stdout",
          "text": [
            "Mounted at /content/drive\n"
          ]
        }
      ]
    },
    {
      "cell_type": "markdown",
      "metadata": {
        "id": "cRTXgBCAQlxN"
      },
      "source": [
        "Hãy import các thư viện. Bạn nên cài **nltk** trước khi thực hiện lab này."
      ]
    },
    {
      "cell_type": "code",
      "metadata": {
        "id": "g2g3yVrbmece",
        "colab": {
          "base_uri": "https://localhost:8080/"
        },
        "outputId": "8862abba-6e16-4b5c-c3bf-0da1e143f10f"
      },
      "source": [
        "import sklearn\n",
        "import pandas as pd\n",
        "import numpy as np\n",
        "\n",
        "import nltk\n",
        "nltk.download('punkt')"
      ],
      "execution_count": null,
      "outputs": [
        {
          "output_type": "stream",
          "name": "stderr",
          "text": [
            "[nltk_data] Downloading package punkt to /root/nltk_data...\n",
            "[nltk_data]   Unzipping tokenizers/punkt.zip.\n"
          ]
        },
        {
          "output_type": "execute_result",
          "data": {
            "text/plain": [
              "True"
            ]
          },
          "metadata": {},
          "execution_count": 3
        }
      ]
    },
    {
      "cell_type": "markdown",
      "metadata": {
        "id": "53nDfj7Umecn"
      },
      "source": [
        "#Đọc một số dữ liệu bình luận sản phẩm\n",
        "\n",
        "Hãy load các bình luận cho một tập các sản phẩm dành cho trẻ sơ sinh. Tập dữ liệu này tên là **\"amazon_baby.csv\"**."
      ]
    },
    {
      "cell_type": "code",
      "metadata": {
        "id": "o5iMNYzrmecp"
      },
      "source": [
        "# WRITE YOUR CODE HERE\n",
        "products = pd.read_csv('/content/drive/MyDrive/Colab_Notebooks/Bai tap lap/Monhoc_1/amazon_baby.csv')"
      ],
      "execution_count": null,
      "outputs": []
    },
    {
      "cell_type": "code",
      "source": [
        "print(products)\n",
        "print(products.info())\n",
        "print(products.describe())"
      ],
      "metadata": {
        "colab": {
          "base_uri": "https://localhost:8080/"
        },
        "id": "DeGe0hm7DNa3",
        "outputId": "d9e5b5fb-19ba-40e8-f34a-353a32f2bdb4"
      },
      "execution_count": null,
      "outputs": [
        {
          "output_type": "stream",
          "name": "stdout",
          "text": [
            "                                                     name  \\\n",
            "0                                Planetwise Flannel Wipes   \n",
            "1                                   Planetwise Wipe Pouch   \n",
            "2                     Annas Dream Full Quilt with 2 Shams   \n",
            "3       Stop Pacifier Sucking without tears with Thumb...   \n",
            "4       Stop Pacifier Sucking without tears with Thumb...   \n",
            "...                                                   ...   \n",
            "183526  Baby Teething Necklace for Mom Pretty Donut Sh...   \n",
            "183527  Baby Teething Necklace for Mom Pretty Donut Sh...   \n",
            "183528   Abstract 2 PK Baby / Toddler Training Cup (Pink)   \n",
            "183529  Baby Food Freezer Tray - Bacteria Resistant, B...   \n",
            "183530  Best 2 Pack Baby Car Shade for Kids - Window S...   \n",
            "\n",
            "                                                   review  rating  \n",
            "0       These flannel wipes are OK, but in my opinion ...       3  \n",
            "1       it came early and was not disappointed. i love...       5  \n",
            "2       Very soft and comfortable and warmer than it l...       5  \n",
            "3       This is a product well worth the purchase.  I ...       5  \n",
            "4       All of my kids have cried non-stop when I trie...       5  \n",
            "...                                                   ...     ...  \n",
            "183526  Such a great idea! very handy to have and look...       5  \n",
            "183527  This product rocks!  It is a great blend of fu...       5  \n",
            "183528  This item looks great and cool for my kids.......       5  \n",
            "183529  I am extremely happy with this product. I have...       5  \n",
            "183530  I love this product very mush . I have bought ...       5  \n",
            "\n",
            "[183531 rows x 3 columns]\n",
            "<class 'pandas.core.frame.DataFrame'>\n",
            "RangeIndex: 183531 entries, 0 to 183530\n",
            "Data columns (total 3 columns):\n",
            " #   Column  Non-Null Count   Dtype \n",
            "---  ------  --------------   ----- \n",
            " 0   name    183213 non-null  object\n",
            " 1   review  182702 non-null  object\n",
            " 2   rating  183531 non-null  int64 \n",
            "dtypes: int64(1), object(2)\n",
            "memory usage: 4.2+ MB\n",
            "None\n",
            "              rating\n",
            "count  183531.000000\n",
            "mean        4.120448\n",
            "std         1.285017\n",
            "min         1.000000\n",
            "25%         4.000000\n",
            "50%         5.000000\n",
            "75%         5.000000\n",
            "max         5.000000\n"
          ]
        }
      ]
    },
    {
      "cell_type": "markdown",
      "metadata": {
        "id": "uDeVTDl7mecv"
      },
      "source": [
        "#Hãy cùng nhau khám phá dữ liệu này\n",
        "\n",
        "Dữ liệu gồm tên sản phẩm, văn bản bình luận và xếp hạng của bình luận."
      ]
    },
    {
      "cell_type": "code",
      "metadata": {
        "id": "YZQcn1vymecx",
        "outputId": "a67fe2ba-e83f-4624-8105-8f360435b975",
        "colab": {
          "base_uri": "https://localhost:8080/",
          "height": 206
        }
      },
      "source": [
        "products.head()"
      ],
      "execution_count": null,
      "outputs": [
        {
          "output_type": "execute_result",
          "data": {
            "text/plain": [
              "                                                name  \\\n",
              "0                           Planetwise Flannel Wipes   \n",
              "1                              Planetwise Wipe Pouch   \n",
              "2                Annas Dream Full Quilt with 2 Shams   \n",
              "3  Stop Pacifier Sucking without tears with Thumb...   \n",
              "4  Stop Pacifier Sucking without tears with Thumb...   \n",
              "\n",
              "                                              review  rating  \n",
              "0  These flannel wipes are OK, but in my opinion ...       3  \n",
              "1  it came early and was not disappointed. i love...       5  \n",
              "2  Very soft and comfortable and warmer than it l...       5  \n",
              "3  This is a product well worth the purchase.  I ...       5  \n",
              "4  All of my kids have cried non-stop when I trie...       5  "
            ],
            "text/html": [
              "\n",
              "\n",
              "  <div id=\"df-61580f12-f793-4017-b85f-4b212116197d\">\n",
              "    <div class=\"colab-df-container\">\n",
              "      <div>\n",
              "<style scoped>\n",
              "    .dataframe tbody tr th:only-of-type {\n",
              "        vertical-align: middle;\n",
              "    }\n",
              "\n",
              "    .dataframe tbody tr th {\n",
              "        vertical-align: top;\n",
              "    }\n",
              "\n",
              "    .dataframe thead th {\n",
              "        text-align: right;\n",
              "    }\n",
              "</style>\n",
              "<table border=\"1\" class=\"dataframe\">\n",
              "  <thead>\n",
              "    <tr style=\"text-align: right;\">\n",
              "      <th></th>\n",
              "      <th>name</th>\n",
              "      <th>review</th>\n",
              "      <th>rating</th>\n",
              "    </tr>\n",
              "  </thead>\n",
              "  <tbody>\n",
              "    <tr>\n",
              "      <th>0</th>\n",
              "      <td>Planetwise Flannel Wipes</td>\n",
              "      <td>These flannel wipes are OK, but in my opinion ...</td>\n",
              "      <td>3</td>\n",
              "    </tr>\n",
              "    <tr>\n",
              "      <th>1</th>\n",
              "      <td>Planetwise Wipe Pouch</td>\n",
              "      <td>it came early and was not disappointed. i love...</td>\n",
              "      <td>5</td>\n",
              "    </tr>\n",
              "    <tr>\n",
              "      <th>2</th>\n",
              "      <td>Annas Dream Full Quilt with 2 Shams</td>\n",
              "      <td>Very soft and comfortable and warmer than it l...</td>\n",
              "      <td>5</td>\n",
              "    </tr>\n",
              "    <tr>\n",
              "      <th>3</th>\n",
              "      <td>Stop Pacifier Sucking without tears with Thumb...</td>\n",
              "      <td>This is a product well worth the purchase.  I ...</td>\n",
              "      <td>5</td>\n",
              "    </tr>\n",
              "    <tr>\n",
              "      <th>4</th>\n",
              "      <td>Stop Pacifier Sucking without tears with Thumb...</td>\n",
              "      <td>All of my kids have cried non-stop when I trie...</td>\n",
              "      <td>5</td>\n",
              "    </tr>\n",
              "  </tbody>\n",
              "</table>\n",
              "</div>\n",
              "      <button class=\"colab-df-convert\" onclick=\"convertToInteractive('df-61580f12-f793-4017-b85f-4b212116197d')\"\n",
              "              title=\"Convert this dataframe to an interactive table.\"\n",
              "              style=\"display:none;\">\n",
              "\n",
              "  <svg xmlns=\"http://www.w3.org/2000/svg\" height=\"24px\"viewBox=\"0 0 24 24\"\n",
              "       width=\"24px\">\n",
              "    <path d=\"M0 0h24v24H0V0z\" fill=\"none\"/>\n",
              "    <path d=\"M18.56 5.44l.94 2.06.94-2.06 2.06-.94-2.06-.94-.94-2.06-.94 2.06-2.06.94zm-11 1L8.5 8.5l.94-2.06 2.06-.94-2.06-.94L8.5 2.5l-.94 2.06-2.06.94zm10 10l.94 2.06.94-2.06 2.06-.94-2.06-.94-.94-2.06-.94 2.06-2.06.94z\"/><path d=\"M17.41 7.96l-1.37-1.37c-.4-.4-.92-.59-1.43-.59-.52 0-1.04.2-1.43.59L10.3 9.45l-7.72 7.72c-.78.78-.78 2.05 0 2.83L4 21.41c.39.39.9.59 1.41.59.51 0 1.02-.2 1.41-.59l7.78-7.78 2.81-2.81c.8-.78.8-2.07 0-2.86zM5.41 20L4 18.59l7.72-7.72 1.47 1.35L5.41 20z\"/>\n",
              "  </svg>\n",
              "      </button>\n",
              "\n",
              "\n",
              "\n",
              "    <div id=\"df-6fb77308-d99e-4138-b457-187c3e6b9bdf\">\n",
              "      <button class=\"colab-df-quickchart\" onclick=\"quickchart('df-6fb77308-d99e-4138-b457-187c3e6b9bdf')\"\n",
              "              title=\"Suggest charts.\"\n",
              "              style=\"display:none;\">\n",
              "\n",
              "<svg xmlns=\"http://www.w3.org/2000/svg\" height=\"24px\"viewBox=\"0 0 24 24\"\n",
              "     width=\"24px\">\n",
              "    <g>\n",
              "        <path d=\"M19 3H5c-1.1 0-2 .9-2 2v14c0 1.1.9 2 2 2h14c1.1 0 2-.9 2-2V5c0-1.1-.9-2-2-2zM9 17H7v-7h2v7zm4 0h-2V7h2v10zm4 0h-2v-4h2v4z\"/>\n",
              "    </g>\n",
              "</svg>\n",
              "      </button>\n",
              "    </div>\n",
              "\n",
              "<style>\n",
              "  .colab-df-quickchart {\n",
              "    background-color: #E8F0FE;\n",
              "    border: none;\n",
              "    border-radius: 50%;\n",
              "    cursor: pointer;\n",
              "    display: none;\n",
              "    fill: #1967D2;\n",
              "    height: 32px;\n",
              "    padding: 0 0 0 0;\n",
              "    width: 32px;\n",
              "  }\n",
              "\n",
              "  .colab-df-quickchart:hover {\n",
              "    background-color: #E2EBFA;\n",
              "    box-shadow: 0px 1px 2px rgba(60, 64, 67, 0.3), 0px 1px 3px 1px rgba(60, 64, 67, 0.15);\n",
              "    fill: #174EA6;\n",
              "  }\n",
              "\n",
              "  [theme=dark] .colab-df-quickchart {\n",
              "    background-color: #3B4455;\n",
              "    fill: #D2E3FC;\n",
              "  }\n",
              "\n",
              "  [theme=dark] .colab-df-quickchart:hover {\n",
              "    background-color: #434B5C;\n",
              "    box-shadow: 0px 1px 3px 1px rgba(0, 0, 0, 0.15);\n",
              "    filter: drop-shadow(0px 1px 2px rgba(0, 0, 0, 0.3));\n",
              "    fill: #FFFFFF;\n",
              "  }\n",
              "</style>\n",
              "\n",
              "    <script>\n",
              "      async function quickchart(key) {\n",
              "        const containerElement = document.querySelector('#' + key);\n",
              "        const charts = await google.colab.kernel.invokeFunction(\n",
              "            'suggestCharts', [key], {});\n",
              "      }\n",
              "    </script>\n",
              "\n",
              "      <script>\n",
              "\n",
              "function displayQuickchartButton(domScope) {\n",
              "  let quickchartButtonEl =\n",
              "    domScope.querySelector('#df-6fb77308-d99e-4138-b457-187c3e6b9bdf button.colab-df-quickchart');\n",
              "  quickchartButtonEl.style.display =\n",
              "    google.colab.kernel.accessAllowed ? 'block' : 'none';\n",
              "}\n",
              "\n",
              "        displayQuickchartButton(document);\n",
              "      </script>\n",
              "      <style>\n",
              "    .colab-df-container {\n",
              "      display:flex;\n",
              "      flex-wrap:wrap;\n",
              "      gap: 12px;\n",
              "    }\n",
              "\n",
              "    .colab-df-convert {\n",
              "      background-color: #E8F0FE;\n",
              "      border: none;\n",
              "      border-radius: 50%;\n",
              "      cursor: pointer;\n",
              "      display: none;\n",
              "      fill: #1967D2;\n",
              "      height: 32px;\n",
              "      padding: 0 0 0 0;\n",
              "      width: 32px;\n",
              "    }\n",
              "\n",
              "    .colab-df-convert:hover {\n",
              "      background-color: #E2EBFA;\n",
              "      box-shadow: 0px 1px 2px rgba(60, 64, 67, 0.3), 0px 1px 3px 1px rgba(60, 64, 67, 0.15);\n",
              "      fill: #174EA6;\n",
              "    }\n",
              "\n",
              "    [theme=dark] .colab-df-convert {\n",
              "      background-color: #3B4455;\n",
              "      fill: #D2E3FC;\n",
              "    }\n",
              "\n",
              "    [theme=dark] .colab-df-convert:hover {\n",
              "      background-color: #434B5C;\n",
              "      box-shadow: 0px 1px 3px 1px rgba(0, 0, 0, 0.15);\n",
              "      filter: drop-shadow(0px 1px 2px rgba(0, 0, 0, 0.3));\n",
              "      fill: #FFFFFF;\n",
              "    }\n",
              "  </style>\n",
              "\n",
              "      <script>\n",
              "        const buttonEl =\n",
              "          document.querySelector('#df-61580f12-f793-4017-b85f-4b212116197d button.colab-df-convert');\n",
              "        buttonEl.style.display =\n",
              "          google.colab.kernel.accessAllowed ? 'block' : 'none';\n",
              "\n",
              "        async function convertToInteractive(key) {\n",
              "          const element = document.querySelector('#df-61580f12-f793-4017-b85f-4b212116197d');\n",
              "          const dataTable =\n",
              "            await google.colab.kernel.invokeFunction('convertToInteractive',\n",
              "                                                     [key], {});\n",
              "          if (!dataTable) return;\n",
              "\n",
              "          const docLinkHtml = 'Like what you see? Visit the ' +\n",
              "            '<a target=\"_blank\" href=https://colab.research.google.com/notebooks/data_table.ipynb>data table notebook</a>'\n",
              "            + ' to learn more about interactive tables.';\n",
              "          element.innerHTML = '';\n",
              "          dataTable['output_type'] = 'display_data';\n",
              "          await google.colab.output.renderOutput(dataTable, element);\n",
              "          const docLink = document.createElement('div');\n",
              "          docLink.innerHTML = docLinkHtml;\n",
              "          element.appendChild(docLink);\n",
              "        }\n",
              "      </script>\n",
              "    </div>\n",
              "  </div>\n"
            ]
          },
          "metadata": {},
          "execution_count": 6
        }
      ]
    },
    {
      "cell_type": "markdown",
      "metadata": {
        "id": "7X6ohrLlmec4"
      },
      "source": [
        "#Hãy xây dựng vectơ word count (đếm từ) cho từng bình luận"
      ]
    },
    {
      "cell_type": "markdown",
      "metadata": {
        "id": "ixbe0fotB7nw"
      },
      "source": [
        "Nếu bạn không quen với nltk, hãy xem các hướng dẫn sau:\n",
        "\n",
        "* [Xử Lý Ngôn Ngữ Tự Nhiên với Python và NLTK](https://viblo.asia/s/xu-ly-ngon-ngu-tu-nhien-voi-python-Je5Ejz9wKnL)\n",
        "\n",
        "* [Xây Dựng Chatbot Bằng NLTK & Keras – Python Chatbot Project](https://tek4.vn/xay-dung-chatbot-bang-nltk-keras-python-chatbot-project/)\n",
        "\n",
        "* [Hướng dẫn NLP bằng Python NLTK (Ví dụ đơn giản)](https://helpex.vn/article/huong-dan-nlp-bang-python-nltk-vi-du-don-gian-5c663a0eae03f60128764f35)\n"
      ]
    },
    {
      "cell_type": "markdown",
      "metadata": {
        "id": "XTSLpOh8Q9er"
      },
      "source": [
        "Chúng ta sẽ sử dụng thư viện **nltk** để tạo vectơ count."
      ]
    },
    {
      "cell_type": "code",
      "metadata": {
        "id": "B9q1Fdfhmec6"
      },
      "source": [
        "#products['review'].dtype\n",
        "from nltk.tokenize import word_tokenize\n",
        "\n",
        "\n",
        "def word_count_function(string):\n",
        "  \"\"\"This function will return a dictionary\n",
        "  where its key is the word from the string (input) and\n",
        "  its value is the number of the appearance of this word in the string\"\"\"\n",
        "  count = {}\n",
        "  for word in word_tokenize(string.strip()): # đây là hàm lấy các phần tử trong 1 str\n",
        "    count[word] = count.get(word, 0) + 1     # dict.get(\"string\", values) với values là output khi string ko tồn tại\n",
        "\n",
        "  # WRITE YOUR CODE HERE\n",
        "  return count\n",
        "\n",
        "# WRITE YOUR CODE HERE\n",
        "\n",
        "# Tạo vectơ count cho các bình luận\n",
        "products['word_count'] = products['review'].map(word_count_function, na_action=\"ignore\")"
      ],
      "execution_count": null,
      "outputs": []
    },
    {
      "cell_type": "code",
      "metadata": {
        "id": "DN2dpoc5medC",
        "outputId": "6d7f4cc0-6503-49e2-8751-825e4912772e",
        "colab": {
          "base_uri": "https://localhost:8080/",
          "height": 206
        }
      },
      "source": [
        "products.head()"
      ],
      "execution_count": null,
      "outputs": [
        {
          "output_type": "execute_result",
          "data": {
            "text/plain": [
              "                                                name  \\\n",
              "0                           Planetwise Flannel Wipes   \n",
              "1                              Planetwise Wipe Pouch   \n",
              "2                Annas Dream Full Quilt with 2 Shams   \n",
              "3  Stop Pacifier Sucking without tears with Thumb...   \n",
              "4  Stop Pacifier Sucking without tears with Thumb...   \n",
              "\n",
              "                                              review  rating  \\\n",
              "0  These flannel wipes are OK, but in my opinion ...       3   \n",
              "1  it came early and was not disappointed. i love...       5   \n",
              "2  Very soft and comfortable and warmer than it l...       5   \n",
              "3  This is a product well worth the purchase.  I ...       5   \n",
              "4  All of my kids have cried non-stop when I trie...       5   \n",
              "\n",
              "                                          word_count  \n",
              "0  {'These': 1, 'flannel': 1, 'wipes': 2, 'are': ...  \n",
              "1  {'it': 3, 'came': 1, 'early': 1, 'and': 3, 'wa...  \n",
              "2  {'Very': 1, 'soft': 1, 'and': 2, 'comfortable'...  \n",
              "3  {'This': 1, 'is': 4, 'a': 2, 'product': 2, 'we...  \n",
              "4  {'All': 1, 'of': 1, 'my': 1, 'kids': 2, 'have'...  "
            ],
            "text/html": [
              "\n",
              "\n",
              "  <div id=\"df-cb255c33-7ad5-4fd8-9f0d-115aa2b1fa14\">\n",
              "    <div class=\"colab-df-container\">\n",
              "      <div>\n",
              "<style scoped>\n",
              "    .dataframe tbody tr th:only-of-type {\n",
              "        vertical-align: middle;\n",
              "    }\n",
              "\n",
              "    .dataframe tbody tr th {\n",
              "        vertical-align: top;\n",
              "    }\n",
              "\n",
              "    .dataframe thead th {\n",
              "        text-align: right;\n",
              "    }\n",
              "</style>\n",
              "<table border=\"1\" class=\"dataframe\">\n",
              "  <thead>\n",
              "    <tr style=\"text-align: right;\">\n",
              "      <th></th>\n",
              "      <th>name</th>\n",
              "      <th>review</th>\n",
              "      <th>rating</th>\n",
              "      <th>word_count</th>\n",
              "    </tr>\n",
              "  </thead>\n",
              "  <tbody>\n",
              "    <tr>\n",
              "      <th>0</th>\n",
              "      <td>Planetwise Flannel Wipes</td>\n",
              "      <td>These flannel wipes are OK, but in my opinion ...</td>\n",
              "      <td>3</td>\n",
              "      <td>{'These': 1, 'flannel': 1, 'wipes': 2, 'are': ...</td>\n",
              "    </tr>\n",
              "    <tr>\n",
              "      <th>1</th>\n",
              "      <td>Planetwise Wipe Pouch</td>\n",
              "      <td>it came early and was not disappointed. i love...</td>\n",
              "      <td>5</td>\n",
              "      <td>{'it': 3, 'came': 1, 'early': 1, 'and': 3, 'wa...</td>\n",
              "    </tr>\n",
              "    <tr>\n",
              "      <th>2</th>\n",
              "      <td>Annas Dream Full Quilt with 2 Shams</td>\n",
              "      <td>Very soft and comfortable and warmer than it l...</td>\n",
              "      <td>5</td>\n",
              "      <td>{'Very': 1, 'soft': 1, 'and': 2, 'comfortable'...</td>\n",
              "    </tr>\n",
              "    <tr>\n",
              "      <th>3</th>\n",
              "      <td>Stop Pacifier Sucking without tears with Thumb...</td>\n",
              "      <td>This is a product well worth the purchase.  I ...</td>\n",
              "      <td>5</td>\n",
              "      <td>{'This': 1, 'is': 4, 'a': 2, 'product': 2, 'we...</td>\n",
              "    </tr>\n",
              "    <tr>\n",
              "      <th>4</th>\n",
              "      <td>Stop Pacifier Sucking without tears with Thumb...</td>\n",
              "      <td>All of my kids have cried non-stop when I trie...</td>\n",
              "      <td>5</td>\n",
              "      <td>{'All': 1, 'of': 1, 'my': 1, 'kids': 2, 'have'...</td>\n",
              "    </tr>\n",
              "  </tbody>\n",
              "</table>\n",
              "</div>\n",
              "      <button class=\"colab-df-convert\" onclick=\"convertToInteractive('df-cb255c33-7ad5-4fd8-9f0d-115aa2b1fa14')\"\n",
              "              title=\"Convert this dataframe to an interactive table.\"\n",
              "              style=\"display:none;\">\n",
              "\n",
              "  <svg xmlns=\"http://www.w3.org/2000/svg\" height=\"24px\"viewBox=\"0 0 24 24\"\n",
              "       width=\"24px\">\n",
              "    <path d=\"M0 0h24v24H0V0z\" fill=\"none\"/>\n",
              "    <path d=\"M18.56 5.44l.94 2.06.94-2.06 2.06-.94-2.06-.94-.94-2.06-.94 2.06-2.06.94zm-11 1L8.5 8.5l.94-2.06 2.06-.94-2.06-.94L8.5 2.5l-.94 2.06-2.06.94zm10 10l.94 2.06.94-2.06 2.06-.94-2.06-.94-.94-2.06-.94 2.06-2.06.94z\"/><path d=\"M17.41 7.96l-1.37-1.37c-.4-.4-.92-.59-1.43-.59-.52 0-1.04.2-1.43.59L10.3 9.45l-7.72 7.72c-.78.78-.78 2.05 0 2.83L4 21.41c.39.39.9.59 1.41.59.51 0 1.02-.2 1.41-.59l7.78-7.78 2.81-2.81c.8-.78.8-2.07 0-2.86zM5.41 20L4 18.59l7.72-7.72 1.47 1.35L5.41 20z\"/>\n",
              "  </svg>\n",
              "      </button>\n",
              "\n",
              "\n",
              "\n",
              "    <div id=\"df-c990a82a-c9c6-4711-af06-5165aae0fbf7\">\n",
              "      <button class=\"colab-df-quickchart\" onclick=\"quickchart('df-c990a82a-c9c6-4711-af06-5165aae0fbf7')\"\n",
              "              title=\"Suggest charts.\"\n",
              "              style=\"display:none;\">\n",
              "\n",
              "<svg xmlns=\"http://www.w3.org/2000/svg\" height=\"24px\"viewBox=\"0 0 24 24\"\n",
              "     width=\"24px\">\n",
              "    <g>\n",
              "        <path d=\"M19 3H5c-1.1 0-2 .9-2 2v14c0 1.1.9 2 2 2h14c1.1 0 2-.9 2-2V5c0-1.1-.9-2-2-2zM9 17H7v-7h2v7zm4 0h-2V7h2v10zm4 0h-2v-4h2v4z\"/>\n",
              "    </g>\n",
              "</svg>\n",
              "      </button>\n",
              "    </div>\n",
              "\n",
              "<style>\n",
              "  .colab-df-quickchart {\n",
              "    background-color: #E8F0FE;\n",
              "    border: none;\n",
              "    border-radius: 50%;\n",
              "    cursor: pointer;\n",
              "    display: none;\n",
              "    fill: #1967D2;\n",
              "    height: 32px;\n",
              "    padding: 0 0 0 0;\n",
              "    width: 32px;\n",
              "  }\n",
              "\n",
              "  .colab-df-quickchart:hover {\n",
              "    background-color: #E2EBFA;\n",
              "    box-shadow: 0px 1px 2px rgba(60, 64, 67, 0.3), 0px 1px 3px 1px rgba(60, 64, 67, 0.15);\n",
              "    fill: #174EA6;\n",
              "  }\n",
              "\n",
              "  [theme=dark] .colab-df-quickchart {\n",
              "    background-color: #3B4455;\n",
              "    fill: #D2E3FC;\n",
              "  }\n",
              "\n",
              "  [theme=dark] .colab-df-quickchart:hover {\n",
              "    background-color: #434B5C;\n",
              "    box-shadow: 0px 1px 3px 1px rgba(0, 0, 0, 0.15);\n",
              "    filter: drop-shadow(0px 1px 2px rgba(0, 0, 0, 0.3));\n",
              "    fill: #FFFFFF;\n",
              "  }\n",
              "</style>\n",
              "\n",
              "    <script>\n",
              "      async function quickchart(key) {\n",
              "        const containerElement = document.querySelector('#' + key);\n",
              "        const charts = await google.colab.kernel.invokeFunction(\n",
              "            'suggestCharts', [key], {});\n",
              "      }\n",
              "    </script>\n",
              "\n",
              "      <script>\n",
              "\n",
              "function displayQuickchartButton(domScope) {\n",
              "  let quickchartButtonEl =\n",
              "    domScope.querySelector('#df-c990a82a-c9c6-4711-af06-5165aae0fbf7 button.colab-df-quickchart');\n",
              "  quickchartButtonEl.style.display =\n",
              "    google.colab.kernel.accessAllowed ? 'block' : 'none';\n",
              "}\n",
              "\n",
              "        displayQuickchartButton(document);\n",
              "      </script>\n",
              "      <style>\n",
              "    .colab-df-container {\n",
              "      display:flex;\n",
              "      flex-wrap:wrap;\n",
              "      gap: 12px;\n",
              "    }\n",
              "\n",
              "    .colab-df-convert {\n",
              "      background-color: #E8F0FE;\n",
              "      border: none;\n",
              "      border-radius: 50%;\n",
              "      cursor: pointer;\n",
              "      display: none;\n",
              "      fill: #1967D2;\n",
              "      height: 32px;\n",
              "      padding: 0 0 0 0;\n",
              "      width: 32px;\n",
              "    }\n",
              "\n",
              "    .colab-df-convert:hover {\n",
              "      background-color: #E2EBFA;\n",
              "      box-shadow: 0px 1px 2px rgba(60, 64, 67, 0.3), 0px 1px 3px 1px rgba(60, 64, 67, 0.15);\n",
              "      fill: #174EA6;\n",
              "    }\n",
              "\n",
              "    [theme=dark] .colab-df-convert {\n",
              "      background-color: #3B4455;\n",
              "      fill: #D2E3FC;\n",
              "    }\n",
              "\n",
              "    [theme=dark] .colab-df-convert:hover {\n",
              "      background-color: #434B5C;\n",
              "      box-shadow: 0px 1px 3px 1px rgba(0, 0, 0, 0.15);\n",
              "      filter: drop-shadow(0px 1px 2px rgba(0, 0, 0, 0.3));\n",
              "      fill: #FFFFFF;\n",
              "    }\n",
              "  </style>\n",
              "\n",
              "      <script>\n",
              "        const buttonEl =\n",
              "          document.querySelector('#df-cb255c33-7ad5-4fd8-9f0d-115aa2b1fa14 button.colab-df-convert');\n",
              "        buttonEl.style.display =\n",
              "          google.colab.kernel.accessAllowed ? 'block' : 'none';\n",
              "\n",
              "        async function convertToInteractive(key) {\n",
              "          const element = document.querySelector('#df-cb255c33-7ad5-4fd8-9f0d-115aa2b1fa14');\n",
              "          const dataTable =\n",
              "            await google.colab.kernel.invokeFunction('convertToInteractive',\n",
              "                                                     [key], {});\n",
              "          if (!dataTable) return;\n",
              "\n",
              "          const docLinkHtml = 'Like what you see? Visit the ' +\n",
              "            '<a target=\"_blank\" href=https://colab.research.google.com/notebooks/data_table.ipynb>data table notebook</a>'\n",
              "            + ' to learn more about interactive tables.';\n",
              "          element.innerHTML = '';\n",
              "          dataTable['output_type'] = 'display_data';\n",
              "          await google.colab.output.renderOutput(dataTable, element);\n",
              "          const docLink = document.createElement('div');\n",
              "          docLink.innerHTML = docLinkHtml;\n",
              "          element.appendChild(docLink);\n",
              "        }\n",
              "      </script>\n",
              "    </div>\n",
              "  </div>\n"
            ]
          },
          "metadata": {},
          "execution_count": 8
        }
      ]
    },
    {
      "cell_type": "code",
      "source": [
        "print(products['word_count'].iloc[0])\n",
        "m = products['word_count'].iloc[0]\n",
        "print(m['Wipes-Ocean'])\n",
        "print(m['for'])"
      ],
      "metadata": {
        "colab": {
          "base_uri": "https://localhost:8080/"
        },
        "id": "ewlnewy9eQDd",
        "outputId": "b3ed52b0-432d-45b8-f15e-36aa84b40456"
      },
      "execution_count": null,
      "outputs": [
        {
          "output_type": "stream",
          "name": "stdout",
          "text": [
            "{'These': 1, 'flannel': 1, 'wipes': 2, 'are': 3, 'OK': 1, ',': 4, 'but': 1, 'in': 1, 'my': 1, 'opinion': 1, 'not': 1, 'worth': 1, 'keeping': 1, '.': 3, 'I': 2, 'also': 1, 'ordered': 1, 'someImse': 1, 'Vimse': 1, 'Cloth': 1, 'Wipes-Ocean': 1, 'Blue-12': 1, 'countwhich': 1, 'larger': 1, 'had': 2, 'a': 2, 'nicer': 1, 'softer': 1, 'texture': 1, 'and': 5, 'just': 1, 'seemed': 1, 'higher': 1, 'quality': 1, 'use': 1, 'cloth': 1, 'for': 2, 'hands': 1, 'faces': 1, 'have': 2, 'been': 1, 'usingThirsties': 1, '6': 1, 'Pack': 1, 'Fab': 1, 'Wipes': 1, 'Boyfor': 1, 'about': 1, '8': 1, 'months': 1, 'now': 1, 'need': 1, 'to': 2, 'replace': 1, 'them': 1, 'because': 1, 'they': 1, 'starting': 1, 'get': 1, 'rough': 1, 'stink': 1, 'issues': 1, 'while': 1, 'that': 1, 'stripping': 1, 'no': 1, 'longer': 1, 'handles': 1}\n",
            "1\n",
            "2\n"
          ]
        }
      ]
    },
    {
      "cell_type": "markdown",
      "metadata": {
        "id": "-NcFM-sqReFu"
      },
      "source": [
        "Vẽ đồ thị các sản phẩm có nhiều bình luận nhất."
      ]
    },
    {
      "cell_type": "code",
      "metadata": {
        "id": "sP9Ifsc2medJ"
      },
      "source": [
        "import matplotlib.pyplot as plt\n",
        "%matplotlib inline"
      ],
      "execution_count": null,
      "outputs": []
    },
    {
      "cell_type": "code",
      "metadata": {
        "id": "6n2Igj_WmedQ",
        "outputId": "ef507fb9-56ea-4f4d-922e-97785b42a8df",
        "colab": {
          "base_uri": "https://localhost:8080/"
        }
      },
      "source": [
        "#products['name'].show()\n",
        "#products['name'].dropna().apply(pandas.value_counts) #.plot(kind='bar')\n",
        "from collections import Counter\n",
        "product_counter = Counter(products['name'].dropna().values) # dropna bỏ các phần tử rỗng\n",
        "print(product_counter.most_common(5))"
      ],
      "execution_count": null,
      "outputs": [
        {
          "output_type": "stream",
          "name": "stdout",
          "text": [
            "[('Vulli Sophie the Giraffe Teether', 785), ('Simple Wishes Hands-Free Breastpump Bra, Pink, XS-L', 562), ('Infant Optics DXR-5 2.4 GHz Digital Video Baby Monitor with Night Vision', 561), ('Baby Einstein Take Along Tunes', 547), ('Cloud b Twilight Constellation Night Light, Turtle', 520)]\n"
          ]
        }
      ]
    },
    {
      "cell_type": "code",
      "source": [
        "from collections import Counter\n",
        "a  = [1, 2 ,1,2,3,4,5,5,5,5]\n",
        "coun = Counter(a)\n",
        "print(coun)"
      ],
      "metadata": {
        "colab": {
          "base_uri": "https://localhost:8080/"
        },
        "id": "LLbSiMeK9bVh",
        "outputId": "32dc85af-7cfc-416f-a38f-a71f11979003"
      },
      "execution_count": null,
      "outputs": [
        {
          "output_type": "stream",
          "name": "stdout",
          "text": [
            "Counter({5: 4, 1: 2, 2: 2, 3: 1, 4: 1})\n"
          ]
        }
      ]
    },
    {
      "cell_type": "code",
      "source": [
        "# cách bạn tạo dataframe từ list của set\n",
        "print(len(product_counter.most_common(5)))\n",
        "create_dict = {}\n",
        "for x in product_counter.most_common(20):\n",
        "    create_dict[x[0]] = x[1]\n",
        "print(type(create_dict))\n",
        "create_dataframe = pd.DataFrame.from_dict(create_dict, orient='index',columns=['number'])"
      ],
      "metadata": {
        "colab": {
          "base_uri": "https://localhost:8080/"
        },
        "id": "pJnJReyJUwFl",
        "outputId": "c442ed4d-921b-4dab-e9c5-52ffd44d825c"
      },
      "execution_count": null,
      "outputs": [
        {
          "output_type": "stream",
          "name": "stdout",
          "text": [
            "5\n",
            "<class 'dict'>\n"
          ]
        }
      ]
    },
    {
      "cell_type": "code",
      "source": [
        "create_dataframe.plot(kind='barh', figsize = (20,15))"
      ],
      "metadata": {
        "colab": {
          "base_uri": "https://localhost:8080/",
          "height": 728
        },
        "id": "liK1nC-xXHqU",
        "outputId": "19ab769e-c1fc-4b22-9c0f-7f7e1db4a384"
      },
      "execution_count": null,
      "outputs": [
        {
          "output_type": "execute_result",
          "data": {
            "text/plain": [
              "<Axes: >"
            ]
          },
          "metadata": {},
          "execution_count": 13
        },
        {
          "output_type": "display_data",
          "data": {
            "text/plain": [
              "<Figure size 2000x1500 with 1 Axes>"
            ],
            "image/png": "[encoded data removed]"
          },
          "metadata": {}
        }
      ]
    },
    {
      "cell_type": "code",
      "metadata": {
        "id": "C5LK6ewWmedW",
        "outputId": "1adbc06b-13ba-417b-b790-879cbf0aa37e",
        "colab": {
          "base_uri": "https://localhost:8080/",
          "height": 430
        }
      },
      "source": [
        "# Vẽ đồ thị các sản phẩm có nhiều bình luận nhất.\n",
        "best_products_plotted = 20\n",
        "products_plotted = product_counter.most_common(best_products_plotted)\n",
        "counter_labels, counts = zip(*products_plotted)\n",
        "counter_pos = np.arange(best_products_plotted)\n",
        "plt.barh(counter_pos, counts)\n",
        "plt.yticks(counter_pos, counter_labels)\n",
        "plt.show()"
      ],
      "execution_count": null,
      "outputs": [
        {
          "output_type": "display_data",
          "data": {
            "text/plain": [
              "<Figure size 640x480 with 1 Axes>"
            ],
            "image/png": "[encoded data removed]"
          },
          "metadata": {}
        }
      ]
    },
    {
      "cell_type": "markdown",
      "metadata": {
        "collapsed": true,
        "id": "zmVTe0X4medd"
      },
      "source": [
        "#Kiểm tra các bình luận cho sản phẩm bán chạy nhất: 'Vulli Sophie the Giraffe Teether'"
      ]
    },
    {
      "cell_type": "code",
      "metadata": {
        "id": "QN_lnCJamedj"
      },
      "source": [
        "giraffe_reviews = products.loc[products['name'] == 'Vulli Sophie the Giraffe Teether']"
      ],
      "execution_count": null,
      "outputs": []
    },
    {
      "cell_type": "code",
      "metadata": {
        "id": "tNdc_h5vmedo",
        "outputId": "1d759730-601b-475d-ab25-85aa1e038fa0",
        "colab": {
          "base_uri": "https://localhost:8080/"
        }
      },
      "source": [
        "len(giraffe_reviews)"
      ],
      "execution_count": null,
      "outputs": [
        {
          "output_type": "execute_result",
          "data": {
            "text/plain": [
              "785"
            ]
          },
          "metadata": {},
          "execution_count": 16
        }
      ]
    },
    {
      "cell_type": "code",
      "metadata": {
        "id": "HKHkMa-bmedu",
        "outputId": "c96e86b4-f4c1-4c8e-a04f-0f4e9093f5cc",
        "colab": {
          "base_uri": "https://localhost:8080/",
          "height": 430
        }
      },
      "source": [
        "#giraffe_reviews['rating'].show(view='Categorical')\n",
        "rating_counter = Counter(giraffe_reviews['rating'].values)\n",
        "counter_pos = np.arange(len(rating_counter))\n",
        "counter_labels, counts = zip(*rating_counter.items()) # ở đây giá trị số sao là int 64 nên phải dùng cách items này\n",
        "plt.bar(counter_pos, counts)\n",
        "plt.xticks(counter_pos, counter_labels)\n",
        "for i, v in enumerate(counts):\n",
        "    plt.text(x=i, y=v+4.0, s=str(v), horizontalalignment='center', color='black', fontweight=\"bold\")\n",
        "plt.show()"
      ],
      "execution_count": null,
      "outputs": [
        {
          "output_type": "display_data",
          "data": {
            "text/plain": [
              "<Figure size 640x480 with 1 Axes>"
            ],
            "image/png": "[encoded data removed]"
          },
          "metadata": {}
        }
      ]
    },
    {
      "cell_type": "markdown",
      "metadata": {
        "id": "xuysAnm-med1"
      },
      "source": [
        "#Xây dựng một bộ phân loại cảm xúc"
      ]
    },
    {
      "cell_type": "code",
      "source": [
        "print(products.info())"
      ],
      "metadata": {
        "colab": {
          "base_uri": "https://localhost:8080/"
        },
        "id": "CXBRZ757fG1P",
        "outputId": "0f987e95-dbe3-4f76-b002-2298f845852d"
      },
      "execution_count": null,
      "outputs": [
        {
          "output_type": "stream",
          "name": "stdout",
          "text": [
            "<class 'pandas.core.frame.DataFrame'>\n",
            "RangeIndex: 183531 entries, 0 to 183530\n",
            "Data columns (total 4 columns):\n",
            " #   Column      Non-Null Count   Dtype \n",
            "---  ------      --------------   ----- \n",
            " 0   name        183213 non-null  object\n",
            " 1   review      182702 non-null  object\n",
            " 2   rating      183531 non-null  int64 \n",
            " 3   word_count  182702 non-null  object\n",
            "dtypes: int64(1), object(3)\n",
            "memory usage: 5.6+ MB\n",
            "None\n"
          ]
        }
      ]
    },
    {
      "cell_type": "code",
      "metadata": {
        "id": "tQOATO6Gmed2",
        "outputId": "eb08925a-a817-4f64-c1e8-2f09c04cc132",
        "colab": {
          "base_uri": "https://localhost:8080/",
          "height": 430
        }
      },
      "source": [
        "#products['rating'].show(view='Categorical')\n",
        "\n",
        "# WRITE YOUR CODE HERE\n",
        "# Xây dựng một vectơ rating count (số lượng mỗi rating)\n",
        "rating_counter = Counter(products['rating'].values)\n",
        "counter_pos = np.arange(len(rating_counter))\n",
        "counter_labels, counts = zip(*rating_counter.items())\n",
        "plt.bar(counter_pos, counts)\n",
        "plt.xticks(counter_pos, counter_labels)\n",
        "for i, v in enumerate(counts):\n",
        "    plt.text(x=i, y=v+500.0, s=str(v), horizontalalignment='center', color='black', fontweight=\"bold\")\n",
        "plt.show()"
      ],
      "execution_count": null,
      "outputs": [
        {
          "output_type": "display_data",
          "data": {
            "text/plain": [
              "<Figure size 640x480 with 1 Axes>"
            ],
            "image/png": "[encoded data removed]"
          },
          "metadata": {}
        }
      ]
    },
    {
      "cell_type": "markdown",
      "metadata": {
        "id": "wOAsdMusmed7"
      },
      "source": [
        "##Xác định một câu là tích cực hay tiêu cực\n",
        "\n",
        "Chúng ta sẽ bỏ qua tất cả các bình luận có rating = 3, vì chúng có xu hướng trung lập. Các bài bình luận có rating là 4 hoặc cao hơn sẽ được coi là tích cực, trong khi các bài bình luận từ 2 trở xuống là tiêu cực."
      ]
    },
    {
      "cell_type": "code",
      "metadata": {
        "id": "g0iswu-bmed9"
      },
      "source": [
        "#bỏ qua các bình luận 3*\n",
        "\n",
        "# WRITE YOUR CODE HERE\n",
        "products = products.loc[products['rating'] != 3]"
      ],
      "execution_count": null,
      "outputs": []
    },
    {
      "cell_type": "code",
      "source": [
        "print(products.describe())"
      ],
      "metadata": {
        "colab": {
          "base_uri": "https://localhost:8080/"
        },
        "id": "JBNnP3PBf9NH",
        "outputId": "12418efe-8638-4cd7-a315-d2903c48f002"
      },
      "execution_count": null,
      "outputs": [
        {
          "output_type": "stream",
          "name": "stdout",
          "text": [
            "              rating\n",
            "count  166752.000000\n",
            "mean        4.233191\n",
            "std         1.295527\n",
            "min         1.000000\n",
            "25%         4.000000\n",
            "50%         5.000000\n",
            "75%         5.000000\n",
            "max         5.000000\n"
          ]
        }
      ]
    },
    {
      "cell_type": "code",
      "metadata": {
        "id": "fDyM6rENmeeF"
      },
      "source": [
        "#tích cực = bình luận 4* hoặc 5*\n",
        "\n",
        "# WRITE YOUR CODE HERE\n",
        "products['sentiment'] = products['rating'].map(lambda x: 1 if (x == 4 or x == 5) else 0 ) # đây là cách bạn mask điều kiện cột khác ứng với cột này"
      ],
      "execution_count": null,
      "outputs": []
    },
    {
      "cell_type": "code",
      "metadata": {
        "id": "NVVDNHmVmeeO",
        "outputId": "3d9a9f51-d36b-4006-c1e8-6e0ddbb41658",
        "colab": {
          "base_uri": "https://localhost:8080/",
          "height": 1000
        }
      },
      "source": [
        "products.iloc[400: 450]"
      ],
      "execution_count": null,
      "outputs": [
        {
          "output_type": "execute_result",
          "data": {
            "text/plain": [
              "                        name  \\\n",
              "438  Baby Trend Diaper Champ   \n",
              "439  Baby Trend Diaper Champ   \n",
              "440  Baby Trend Diaper Champ   \n",
              "441  Baby Trend Diaper Champ   \n",
              "442  Baby Trend Diaper Champ   \n",
              "443  Baby Trend Diaper Champ   \n",
              "444  Baby Trend Diaper Champ   \n",
              "445  Baby Trend Diaper Champ   \n",
              "446  Baby Trend Diaper Champ   \n",
              "447  Baby Trend Diaper Champ   \n",
              "448  Baby Trend Diaper Champ   \n",
              "450  Baby Trend Diaper Champ   \n",
              "451  Baby Trend Diaper Champ   \n",
              "452  Baby Trend Diaper Champ   \n",
              "453  Baby Trend Diaper Champ   \n",
              "454  Baby Trend Diaper Champ   \n",
              "455  Baby Trend Diaper Champ   \n",
              "456  Baby Trend Diaper Champ   \n",
              "457  Baby Trend Diaper Champ   \n",
              "458  Baby Trend Diaper Champ   \n",
              "459  Baby Trend Diaper Champ   \n",
              "460  Baby Trend Diaper Champ   \n",
              "461  Baby Trend Diaper Champ   \n",
              "462  Baby Trend Diaper Champ   \n",
              "463  Baby Trend Diaper Champ   \n",
              "464  Baby Trend Diaper Champ   \n",
              "465  Baby Trend Diaper Champ   \n",
              "467  Baby Trend Diaper Champ   \n",
              "468  Baby Trend Diaper Champ   \n",
              "469  Baby Trend Diaper Champ   \n",
              "470  Baby Trend Diaper Champ   \n",
              "471  Baby Trend Diaper Champ   \n",
              "472  Baby Trend Diaper Champ   \n",
              "473  Baby Trend Diaper Champ   \n",
              "474  Baby Trend Diaper Champ   \n",
              "475  Baby Trend Diaper Champ   \n",
              "476  Baby Trend Diaper Champ   \n",
              "477  Baby Trend Diaper Champ   \n",
              "479  Baby Trend Diaper Champ   \n",
              "480  Baby Trend Diaper Champ   \n",
              "481  Baby Trend Diaper Champ   \n",
              "482  Baby Trend Diaper Champ   \n",
              "483  Baby Trend Diaper Champ   \n",
              "484  Baby Trend Diaper Champ   \n",
              "485  Baby Trend Diaper Champ   \n",
              "486  Baby Trend Diaper Champ   \n",
              "488  Baby Trend Diaper Champ   \n",
              "489  Baby Trend Diaper Champ   \n",
              "490  Baby Trend Diaper Champ   \n",
              "491  Baby Trend Diaper Champ   \n",
              "\n",
              "                                                review  rating  \\\n",
              "438  This is a great diaper disposal system, but fr...       5   \n",
              "439  I read many reviews about diaper disposals and...       5   \n",
              "440  Let\\'s face it.  This is a specially designed ...       4   \n",
              "441  i love this diaper champ..not only does it sav...       5   \n",
              "442  This item is great, you can you any bags you w...       5   \n",
              "443  The Diaper Champ is difficult to use and does ...       2   \n",
              "444  If you can love a diaper pail that is...  The ...       5   \n",
              "445  For my first born I purchased the Diaper Genie...       5   \n",
              "446  I received my Diaper Champ at my baby shower f...       5   \n",
              "447  I am a second time mom who used the rival Diap...       5   \n",
              "448  GOOD POINTS:Easy to operate and change.Less ex...       4   \n",
              "450  I am really disappointed with the Diaper Champ...       2   \n",
              "451  As a first time mother, I wanted to get the be...       5   \n",
              "452  I like the slim shape and that you can use reg...       2   \n",
              "453  We\\'ve now had the Diaper Champ for a little o...       5   \n",
              "454  After Our Diaper Genie broke after 2 years, I ...       2   \n",
              "455  We put a Diaper Genie on the shower list for t...       5   \n",
              "456  I love this diaper pail. It keeps the diapers ...       4   \n",
              "457  I chose this product because unlike the Diaper...       5   \n",
              "458  I\\'m SO glad that we asked the sales associate...       5   \n",
              "459  Love it, love it, love it!  This lives up to t...       5   \n",
              "460  I have been very happy with this pail.  The gr...       4   \n",
              "461  After using this for 3 years, I still stunned ...       5   \n",
              "462  I loved this compared to the genie. It is easi...       5   \n",
              "463  We got the Diaper Champ because we thought it ...       1   \n",
              "464  I returned the Diaper G**** that I was given b...       5   \n",
              "465  My husband saw this after my first shower and ...       4   \n",
              "467  I highly recommend this item.  It is a must!  ...       5   \n",
              "468  My husband and I originally registered for the...       4   \n",
              "469  I have a 10 year old daughter and an 8 month o...       5   \n",
              "470  This is easy, but horribly smelly.  I suggest ...       2   \n",
              "471  ...make sure I tell people about this product....       5   \n",
              "472  I\\'ve given this can as a gift a few times now...       5   \n",
              "473  I have 2 kids in diapers and the diaper champ ...       5   \n",
              "474  I registered for this after reading all the re...       5   \n",
              "475  We have ours in our living room and you can\\'t...       4   \n",
              "476  I have had a great experience with this produc...       5   \n",
              "477  The boy is now 1 year old and we have had it s...       4   \n",
              "479  My son is now 5 mo. and overall, I\\'m happy wi...       4   \n",
              "480  The diaper champ is fantastic. You can use reg...       5   \n",
              "481  I love this pail.  You just drop the diaper in...       5   \n",
              "482  I was given the Diaper Geni and after a week o...       5   \n",
              "483  I got this pail because I felt it was good tha...       1   \n",
              "484  Worst diaper pale ever!!  I\\'ve had mine for 2...       1   \n",
              "485  My sister had a Diaper Genie and it always sme...       5   \n",
              "486  This is my second child. With my first, I went...       5   \n",
              "488  I like BabyTrend\\'s products. We also have a S...       4   \n",
              "489  I registered for this product after reading th...       2   \n",
              "490  The Diaper Champ doesn\\'t smell - how wonderfu...       4   \n",
              "491  I can\\'t say enough good things about the Cham...       5   \n",
              "\n",
              "                                            word_count  sentiment  \n",
              "438  {'This': 1, 'is': 2, 'a': 4, 'great': 1, 'diap...          1  \n",
              "439  {'I': 10, 'read': 1, 'many': 1, 'reviews': 1, ...          1  \n",
              "440  {'Let\\': 1, ''s': 2, 'face': 1, 'it': 5, '.': ...          1  \n",
              "441  {'i': 3, 'love': 1, 'this': 1, 'diaper': 5, 'c...          1  \n",
              "442  {'This': 1, 'item': 1, 'is': 2, 'great': 2, ',...          1  \n",
              "443  {'The': 2, 'Diaper': 1, 'Champ': 1, 'is': 4, '...          0  \n",
              "444  {'If': 1, 'you': 1, 'can': 1, 'love': 1, 'a': ...          1  \n",
              "445  {'For': 1, 'my': 1, 'first': 2, 'born': 1, 'I'...          1  \n",
              "446  {'I': 5, 'received': 1, 'my': 6, 'Diaper': 2, ...          1  \n",
              "447  {'I': 2, 'am': 1, 'a': 3, 'second': 1, 'time':...          1  \n",
              "448  {'GOOD': 1, 'POINTS': 2, ':': 2, 'Easy': 1, 't...          1  \n",
              "450  {'I': 2, 'am': 1, 'really': 2, 'disappointed':...          0  \n",
              "451  {'As': 1, 'a': 5, 'first': 1, 'time': 1, 'moth...          1  \n",
              "452  {'I': 1, 'like': 1, 'the': 3, 'slim': 1, 'shap...          0  \n",
              "453  {'We\\': 1, ''ve': 1, 'now': 1, 'had': 1, 'the'...          1  \n",
              "454  {'After': 1, 'Our': 1, 'Diaper': 1, 'Genie': 2...          0  \n",
              "455  {'We': 4, 'put': 2, 'a': 14, 'Diaper': 6, 'Gen...          1  \n",
              "456  {'I': 5, 'love': 2, 'this': 1, 'diaper': 1, 'p...          1  \n",
              "457  {'I': 4, 'chose': 1, 'this': 2, 'product': 2, ...          1  \n",
              "458  {'I\\': 1, ''m': 1, 'SO': 1, 'glad': 1, 'that':...          1  \n",
              "459  {'Love': 1, 'it': 4, ',': 4, 'love': 2, '!': 2...          1  \n",
              "460  {'I': 4, 'have': 2, 'been': 1, 'very': 1, 'hap...          1  \n",
              "461  {'After': 1, 'using': 3, 'this': 1, 'for': 2, ...          1  \n",
              "462  {'I': 1, 'loved': 1, 'this': 1, 'compared': 1,...          1  \n",
              "463  {'We': 1, 'got': 1, 'the': 3, 'Diaper': 1, 'Ch...          0  \n",
              "464  {'I': 2, 'returned': 1, 'the': 1, 'Diaper': 1,...          1  \n",
              "465  {'My': 2, 'husband': 1, 'saw': 1, 'this': 1, '...          1  \n",
              "467  {'I': 3, 'highly': 1, 'recommend': 1, 'this': ...          1  \n",
              "468  {'My': 1, 'husband': 1, 'and': 1, 'I': 1, 'ori...          1  \n",
              "469  {'I': 14, 'have': 5, 'a': 7, '10': 1, 'year': ...          1  \n",
              "470  {'This': 1, 'is': 1, 'easy': 1, ',': 2, 'but':...          0  \n",
              "471  {'...': 1, 'make': 1, 'sure': 1, 'I': 7, 'tell...          1  \n",
              "472  {'I\\': 1, ''ve': 1, 'given': 1, 'this': 1, 'ca...          1  \n",
              "473  {'I': 2, 'have': 1, '2': 2, 'kids': 1, 'in': 1...          1  \n",
              "474  {'I': 7, 'registered': 1, 'for': 3, 'this': 1,...          1  \n",
              "475  {'We': 1, 'have': 1, 'ours': 1, 'in': 1, 'our'...          1  \n",
              "476  {'I': 3, 'have': 2, 'had': 2, 'a': 1, 'great':...          1  \n",
              "477  {'The': 1, 'boy': 2, 'is': 4, 'now': 1, '1': 1...          1  \n",
              "479  {'My': 2, 'son': 1, 'is': 6, 'now': 1, '5': 1,...          1  \n",
              "480  {'The': 1, 'diaper': 2, 'champ': 1, 'is': 2, '...          1  \n",
              "481  {'I': 3, 'love': 1, 'this': 1, 'pail': 2, '.':...          1  \n",
              "482  {'I': 1, 'was': 2, 'given': 1, 'the': 5, 'Diap...          1  \n",
              "483  {'I': 4, 'got': 1, 'this': 1, 'pail': 4, 'beca...          0  \n",
              "484  {'Worst': 1, 'diaper': 1, 'pale': 2, 'ever': 1...          0  \n",
              "485  {'My': 2, 'sister': 1, 'had': 1, 'a': 3, 'Diap...          1  \n",
              "486  {'This': 1, 'is': 1, 'my': 3, 'second': 1, 'ch...          1  \n",
              "488  {'I': 3, 'like': 1, 'BabyTrend\\': 1, ''s': 1, ...          1  \n",
              "489  {'I': 4, 'registered': 1, 'for': 1, 'this': 1,...          0  \n",
              "490  {'The': 1, 'Diaper': 1, 'Champ': 1, 'doesn\\'t'...          1  \n",
              "491  {'I': 7, 'can\\'t': 1, 'say': 2, 'enough': 1, '...          1  "
            ],
            "text/html": [
              "\n",
              "\n",
              "  <div id=\"df-f24ddaaa-c2e7-4ba9-aa97-a6c6a0125d8d\">\n",
              "    <div class=\"colab-df-container\">\n",
              "      <div>\n",
              "<style scoped>\n",
              "    .dataframe tbody tr th:only-of-type {\n",
              "        vertical-align: middle;\n",
              "    }\n",
              "\n",
              "    .dataframe tbody tr th {\n",
              "        vertical-align: top;\n",
              "    }\n",
              "\n",
              "    .dataframe thead th {\n",
              "        text-align: right;\n",
              "    }\n",
              "</style>\n",
              "<table border=\"1\" class=\"dataframe\">\n",
              "  <thead>\n",
              "    <tr style=\"text-align: right;\">\n",
              "      <th></th>\n",
              "      <th>name</th>\n",
              "      <th>review</th>\n",
              "      <th>rating</th>\n",
              "      <th>word_count</th>\n",
              "      <th>sentiment</th>\n",
              "    </tr>\n",
              "  </thead>\n",
              "  <tbody>\n",
              "    <tr>\n",
              "      <th>438</th>\n",
              "      <td>Baby Trend Diaper Champ</td>\n",
              "      <td>This is a great diaper disposal system, but fr...</td>\n",
              "      <td>5</td>\n",
              "      <td>{'This': 1, 'is': 2, 'a': 4, 'great': 1, 'diap...</td>\n",
              "      <td>1</td>\n",
              "    </tr>\n",
              "    <tr>\n",
              "      <th>439</th>\n",
              "      <td>Baby Trend Diaper Champ</td>\n",
              "      <td>I read many reviews about diaper disposals and...</td>\n",
              "      <td>5</td>\n",
              "      <td>{'I': 10, 'read': 1, 'many': 1, 'reviews': 1, ...</td>\n",
              "      <td>1</td>\n",
              "    </tr>\n",
              "    <tr>\n",
              "      <th>440</th>\n",
              "      <td>Baby Trend Diaper Champ</td>\n",
              "      <td>Let\\'s face it.  This is a specially designed ...</td>\n",
              "      <td>4</td>\n",
              "      <td>{'Let\\': 1, ''s': 2, 'face': 1, 'it': 5, '.': ...</td>\n",
              "      <td>1</td>\n",
              "    </tr>\n",
              "    <tr>\n",
              "      <th>441</th>\n",
              "      <td>Baby Trend Diaper Champ</td>\n",
              "      <td>i love this diaper champ..not only does it sav...</td>\n",
              "      <td>5</td>\n",
              "      <td>{'i': 3, 'love': 1, 'this': 1, 'diaper': 5, 'c...</td>\n",
              "      <td>1</td>\n",
              "    </tr>\n",
              "    <tr>\n",
              "      <th>442</th>\n",
              "      <td>Baby Trend Diaper Champ</td>\n",
              "      <td>This item is great, you can you any bags you w...</td>\n",
              "      <td>5</td>\n",
              "      <td>{'This': 1, 'item': 1, 'is': 2, 'great': 2, ',...</td>\n",
              "      <td>1</td>\n",
              "    </tr>\n",
              "    <tr>\n",
              "      <th>443</th>\n",
              "      <td>Baby Trend Diaper Champ</td>\n",
              "      <td>The Diaper Champ is difficult to use and does ...</td>\n",
              "      <td>2</td>\n",
              "      <td>{'The': 2, 'Diaper': 1, 'Champ': 1, 'is': 4, '...</td>\n",
              "      <td>0</td>\n",
              "    </tr>\n",
              "    <tr>\n",
              "      <th>444</th>\n",
              "      <td>Baby Trend Diaper Champ</td>\n",
              "      <td>If you can love a diaper pail that is...  The ...</td>\n",
              "      <td>5</td>\n",
              "      <td>{'If': 1, 'you': 1, 'can': 1, 'love': 1, 'a': ...</td>\n",
              "      <td>1</td>\n",
              "    </tr>\n",
              "    <tr>\n",
              "      <th>445</th>\n",
              "      <td>Baby Trend Diaper Champ</td>\n",
              "      <td>For my first born I purchased the Diaper Genie...</td>\n",
              "      <td>5</td>\n",
              "      <td>{'For': 1, 'my': 1, 'first': 2, 'born': 1, 'I'...</td>\n",
              "      <td>1</td>\n",
              "    </tr>\n",
              "    <tr>\n",
              "      <th>446</th>\n",
              "      <td>Baby Trend Diaper Champ</td>\n",
              "      <td>I received my Diaper Champ at my baby shower f...</td>\n",
              "      <td>5</td>\n",
              "      <td>{'I': 5, 'received': 1, 'my': 6, 'Diaper': 2, ...</td>\n",
              "      <td>1</td>\n",
              "    </tr>\n",
              "    <tr>\n",
              "      <th>447</th>\n",
              "      <td>Baby Trend Diaper Champ</td>\n",
              "      <td>I am a second time mom who used the rival Diap...</td>\n",
              "      <td>5</td>\n",
              "      <td>{'I': 2, 'am': 1, 'a': 3, 'second': 1, 'time':...</td>\n",
              "      <td>1</td>\n",
              "    </tr>\n",
              "    <tr>\n",
              "      <th>448</th>\n",
              "      <td>Baby Trend Diaper Champ</td>\n",
              "      <td>GOOD POINTS:Easy to operate and change.Less ex...</td>\n",
              "      <td>4</td>\n",
              "      <td>{'GOOD': 1, 'POINTS': 2, ':': 2, 'Easy': 1, 't...</td>\n",
              "      <td>1</td>\n",
              "    </tr>\n",
              "    <tr>\n",
              "      <th>450</th>\n",
              "      <td>Baby Trend Diaper Champ</td>\n",
              "      <td>I am really disappointed with the Diaper Champ...</td>\n",
              "      <td>2</td>\n",
              "      <td>{'I': 2, 'am': 1, 'really': 2, 'disappointed':...</td>\n",
              "      <td>0</td>\n",
              "    </tr>\n",
              "    <tr>\n",
              "      <th>451</th>\n",
              "      <td>Baby Trend Diaper Champ</td>\n",
              "      <td>As a first time mother, I wanted to get the be...</td>\n",
              "      <td>5</td>\n",
              "      <td>{'As': 1, 'a': 5, 'first': 1, 'time': 1, 'moth...</td>\n",
              "      <td>1</td>\n",
              "    </tr>\n",
              "    <tr>\n",
              "      <th>452</th>\n",
              "      <td>Baby Trend Diaper Champ</td>\n",
              "      <td>I like the slim shape and that you can use reg...</td>\n",
              "      <td>2</td>\n",
              "      <td>{'I': 1, 'like': 1, 'the': 3, 'slim': 1, 'shap...</td>\n",
              "      <td>0</td>\n",
              "    </tr>\n",
              "    <tr>\n",
              "      <th>453</th>\n",
              "      <td>Baby Trend Diaper Champ</td>\n",
              "      <td>We\\'ve now had the Diaper Champ for a little o...</td>\n",
              "      <td>5</td>\n",
              "      <td>{'We\\': 1, ''ve': 1, 'now': 1, 'had': 1, 'the'...</td>\n",
              "      <td>1</td>\n",
              "    </tr>\n",
              "    <tr>\n",
              "      <th>454</th>\n",
              "      <td>Baby Trend Diaper Champ</td>\n",
              "      <td>After Our Diaper Genie broke after 2 years, I ...</td>\n",
              "      <td>2</td>\n",
              "      <td>{'After': 1, 'Our': 1, 'Diaper': 1, 'Genie': 2...</td>\n",
              "      <td>0</td>\n",
              "    </tr>\n",
              "    <tr>\n",
              "      <th>455</th>\n",
              "      <td>Baby Trend Diaper Champ</td>\n",
              "      <td>We put a Diaper Genie on the shower list for t...</td>\n",
              "      <td>5</td>\n",
              "      <td>{'We': 4, 'put': 2, 'a': 14, 'Diaper': 6, 'Gen...</td>\n",
              "      <td>1</td>\n",
              "    </tr>\n",
              "    <tr>\n",
              "      <th>456</th>\n",
              "      <td>Baby Trend Diaper Champ</td>\n",
              "      <td>I love this diaper pail. It keeps the diapers ...</td>\n",
              "      <td>4</td>\n",
              "      <td>{'I': 5, 'love': 2, 'this': 1, 'diaper': 1, 'p...</td>\n",
              "      <td>1</td>\n",
              "    </tr>\n",
              "    <tr>\n",
              "      <th>457</th>\n",
              "      <td>Baby Trend Diaper Champ</td>\n",
              "      <td>I chose this product because unlike the Diaper...</td>\n",
              "      <td>5</td>\n",
              "      <td>{'I': 4, 'chose': 1, 'this': 2, 'product': 2, ...</td>\n",
              "      <td>1</td>\n",
              "    </tr>\n",
              "    <tr>\n",
              "      <th>458</th>\n",
              "      <td>Baby Trend Diaper Champ</td>\n",
              "      <td>I\\'m SO glad that we asked the sales associate...</td>\n",
              "      <td>5</td>\n",
              "      <td>{'I\\': 1, ''m': 1, 'SO': 1, 'glad': 1, 'that':...</td>\n",
              "      <td>1</td>\n",
              "    </tr>\n",
              "    <tr>\n",
              "      <th>459</th>\n",
              "      <td>Baby Trend Diaper Champ</td>\n",
              "      <td>Love it, love it, love it!  This lives up to t...</td>\n",
              "      <td>5</td>\n",
              "      <td>{'Love': 1, 'it': 4, ',': 4, 'love': 2, '!': 2...</td>\n",
              "      <td>1</td>\n",
              "    </tr>\n",
              "    <tr>\n",
              "      <th>460</th>\n",
              "      <td>Baby Trend Diaper Champ</td>\n",
              "      <td>I have been very happy with this pail.  The gr...</td>\n",
              "      <td>4</td>\n",
              "      <td>{'I': 4, 'have': 2, 'been': 1, 'very': 1, 'hap...</td>\n",
              "      <td>1</td>\n",
              "    </tr>\n",
              "    <tr>\n",
              "      <th>461</th>\n",
              "      <td>Baby Trend Diaper Champ</td>\n",
              "      <td>After using this for 3 years, I still stunned ...</td>\n",
              "      <td>5</td>\n",
              "      <td>{'After': 1, 'using': 3, 'this': 1, 'for': 2, ...</td>\n",
              "      <td>1</td>\n",
              "    </tr>\n",
              "    <tr>\n",
              "      <th>462</th>\n",
              "      <td>Baby Trend Diaper Champ</td>\n",
              "      <td>I loved this compared to the genie. It is easi...</td>\n",
              "      <td>5</td>\n",
              "      <td>{'I': 1, 'loved': 1, 'this': 1, 'compared': 1,...</td>\n",
              "      <td>1</td>\n",
              "    </tr>\n",
              "    <tr>\n",
              "      <th>463</th>\n",
              "      <td>Baby Trend Diaper Champ</td>\n",
              "      <td>We got the Diaper Champ because we thought it ...</td>\n",
              "      <td>1</td>\n",
              "      <td>{'We': 1, 'got': 1, 'the': 3, 'Diaper': 1, 'Ch...</td>\n",
              "      <td>0</td>\n",
              "    </tr>\n",
              "    <tr>\n",
              "      <th>464</th>\n",
              "      <td>Baby Trend Diaper Champ</td>\n",
              "      <td>I returned the Diaper G**** that I was given b...</td>\n",
              "      <td>5</td>\n",
              "      <td>{'I': 2, 'returned': 1, 'the': 1, 'Diaper': 1,...</td>\n",
              "      <td>1</td>\n",
              "    </tr>\n",
              "    <tr>\n",
              "      <th>465</th>\n",
              "      <td>Baby Trend Diaper Champ</td>\n",
              "      <td>My husband saw this after my first shower and ...</td>\n",
              "      <td>4</td>\n",
              "      <td>{'My': 2, 'husband': 1, 'saw': 1, 'this': 1, '...</td>\n",
              "      <td>1</td>\n",
              "    </tr>\n",
              "    <tr>\n",
              "      <th>467</th>\n",
              "      <td>Baby Trend Diaper Champ</td>\n",
              "      <td>I highly recommend this item.  It is a must!  ...</td>\n",
              "      <td>5</td>\n",
              "      <td>{'I': 3, 'highly': 1, 'recommend': 1, 'this': ...</td>\n",
              "      <td>1</td>\n",
              "    </tr>\n",
              "    <tr>\n",
              "      <th>468</th>\n",
              "      <td>Baby Trend Diaper Champ</td>\n",
              "      <td>My husband and I originally registered for the...</td>\n",
              "      <td>4</td>\n",
              "      <td>{'My': 1, 'husband': 1, 'and': 1, 'I': 1, 'ori...</td>\n",
              "      <td>1</td>\n",
              "    </tr>\n",
              "    <tr>\n",
              "      <th>469</th>\n",
              "      <td>Baby Trend Diaper Champ</td>\n",
              "      <td>I have a 10 year old daughter and an 8 month o...</td>\n",
              "      <td>5</td>\n",
              "      <td>{'I': 14, 'have': 5, 'a': 7, '10': 1, 'year': ...</td>\n",
              "      <td>1</td>\n",
              "    </tr>\n",
              "    <tr>\n",
              "      <th>470</th>\n",
              "      <td>Baby Trend Diaper Champ</td>\n",
              "      <td>This is easy, but horribly smelly.  I suggest ...</td>\n",
              "      <td>2</td>\n",
              "      <td>{'This': 1, 'is': 1, 'easy': 1, ',': 2, 'but':...</td>\n",
              "      <td>0</td>\n",
              "    </tr>\n",
              "    <tr>\n",
              "      <th>471</th>\n",
              "      <td>Baby Trend Diaper Champ</td>\n",
              "      <td>...make sure I tell people about this product....</td>\n",
              "      <td>5</td>\n",
              "      <td>{'...': 1, 'make': 1, 'sure': 1, 'I': 7, 'tell...</td>\n",
              "      <td>1</td>\n",
              "    </tr>\n",
              "    <tr>\n",
              "      <th>472</th>\n",
              "      <td>Baby Trend Diaper Champ</td>\n",
              "      <td>I\\'ve given this can as a gift a few times now...</td>\n",
              "      <td>5</td>\n",
              "      <td>{'I\\': 1, ''ve': 1, 'given': 1, 'this': 1, 'ca...</td>\n",
              "      <td>1</td>\n",
              "    </tr>\n",
              "    <tr>\n",
              "      <th>473</th>\n",
              "      <td>Baby Trend Diaper Champ</td>\n",
              "      <td>I have 2 kids in diapers and the diaper champ ...</td>\n",
              "      <td>5</td>\n",
              "      <td>{'I': 2, 'have': 1, '2': 2, 'kids': 1, 'in': 1...</td>\n",
              "      <td>1</td>\n",
              "    </tr>\n",
              "    <tr>\n",
              "      <th>474</th>\n",
              "      <td>Baby Trend Diaper Champ</td>\n",
              "      <td>I registered for this after reading all the re...</td>\n",
              "      <td>5</td>\n",
              "      <td>{'I': 7, 'registered': 1, 'for': 3, 'this': 1,...</td>\n",
              "      <td>1</td>\n",
              "    </tr>\n",
              "    <tr>\n",
              "      <th>475</th>\n",
              "      <td>Baby Trend Diaper Champ</td>\n",
              "      <td>We have ours in our living room and you can\\'t...</td>\n",
              "      <td>4</td>\n",
              "      <td>{'We': 1, 'have': 1, 'ours': 1, 'in': 1, 'our'...</td>\n",
              "      <td>1</td>\n",
              "    </tr>\n",
              "    <tr>\n",
              "      <th>476</th>\n",
              "      <td>Baby Trend Diaper Champ</td>\n",
              "      <td>I have had a great experience with this produc...</td>\n",
              "      <td>5</td>\n",
              "      <td>{'I': 3, 'have': 2, 'had': 2, 'a': 1, 'great':...</td>\n",
              "      <td>1</td>\n",
              "    </tr>\n",
              "    <tr>\n",
              "      <th>477</th>\n",
              "      <td>Baby Trend Diaper Champ</td>\n",
              "      <td>The boy is now 1 year old and we have had it s...</td>\n",
              "      <td>4</td>\n",
              "      <td>{'The': 1, 'boy': 2, 'is': 4, 'now': 1, '1': 1...</td>\n",
              "      <td>1</td>\n",
              "    </tr>\n",
              "    <tr>\n",
              "      <th>479</th>\n",
              "      <td>Baby Trend Diaper Champ</td>\n",
              "      <td>My son is now 5 mo. and overall, I\\'m happy wi...</td>\n",
              "      <td>4</td>\n",
              "      <td>{'My': 2, 'son': 1, 'is': 6, 'now': 1, '5': 1,...</td>\n",
              "      <td>1</td>\n",
              "    </tr>\n",
              "    <tr>\n",
              "      <th>480</th>\n",
              "      <td>Baby Trend Diaper Champ</td>\n",
              "      <td>The diaper champ is fantastic. You can use reg...</td>\n",
              "      <td>5</td>\n",
              "      <td>{'The': 1, 'diaper': 2, 'champ': 1, 'is': 2, '...</td>\n",
              "      <td>1</td>\n",
              "    </tr>\n",
              "    <tr>\n",
              "      <th>481</th>\n",
              "      <td>Baby Trend Diaper Champ</td>\n",
              "      <td>I love this pail.  You just drop the diaper in...</td>\n",
              "      <td>5</td>\n",
              "      <td>{'I': 3, 'love': 1, 'this': 1, 'pail': 2, '.':...</td>\n",
              "      <td>1</td>\n",
              "    </tr>\n",
              "    <tr>\n",
              "      <th>482</th>\n",
              "      <td>Baby Trend Diaper Champ</td>\n",
              "      <td>I was given the Diaper Geni and after a week o...</td>\n",
              "      <td>5</td>\n",
              "      <td>{'I': 1, 'was': 2, 'given': 1, 'the': 5, 'Diap...</td>\n",
              "      <td>1</td>\n",
              "    </tr>\n",
              "    <tr>\n",
              "      <th>483</th>\n",
              "      <td>Baby Trend Diaper Champ</td>\n",
              "      <td>I got this pail because I felt it was good tha...</td>\n",
              "      <td>1</td>\n",
              "      <td>{'I': 4, 'got': 1, 'this': 1, 'pail': 4, 'beca...</td>\n",
              "      <td>0</td>\n",
              "    </tr>\n",
              "    <tr>\n",
              "      <th>484</th>\n",
              "      <td>Baby Trend Diaper Champ</td>\n",
              "      <td>Worst diaper pale ever!!  I\\'ve had mine for 2...</td>\n",
              "      <td>1</td>\n",
              "      <td>{'Worst': 1, 'diaper': 1, 'pale': 2, 'ever': 1...</td>\n",
              "      <td>0</td>\n",
              "    </tr>\n",
              "    <tr>\n",
              "      <th>485</th>\n",
              "      <td>Baby Trend Diaper Champ</td>\n",
              "      <td>My sister had a Diaper Genie and it always sme...</td>\n",
              "      <td>5</td>\n",
              "      <td>{'My': 2, 'sister': 1, 'had': 1, 'a': 3, 'Diap...</td>\n",
              "      <td>1</td>\n",
              "    </tr>\n",
              "    <tr>\n",
              "      <th>486</th>\n",
              "      <td>Baby Trend Diaper Champ</td>\n",
              "      <td>This is my second child. With my first, I went...</td>\n",
              "      <td>5</td>\n",
              "      <td>{'This': 1, 'is': 1, 'my': 3, 'second': 1, 'ch...</td>\n",
              "      <td>1</td>\n",
              "    </tr>\n",
              "    <tr>\n",
              "      <th>488</th>\n",
              "      <td>Baby Trend Diaper Champ</td>\n",
              "      <td>I like BabyTrend\\'s products. We also have a S...</td>\n",
              "      <td>4</td>\n",
              "      <td>{'I': 3, 'like': 1, 'BabyTrend\\': 1, ''s': 1, ...</td>\n",
              "      <td>1</td>\n",
              "    </tr>\n",
              "    <tr>\n",
              "      <th>489</th>\n",
              "      <td>Baby Trend Diaper Champ</td>\n",
              "      <td>I registered for this product after reading th...</td>\n",
              "      <td>2</td>\n",
              "      <td>{'I': 4, 'registered': 1, 'for': 1, 'this': 1,...</td>\n",
              "      <td>0</td>\n",
              "    </tr>\n",
              "    <tr>\n",
              "      <th>490</th>\n",
              "      <td>Baby Trend Diaper Champ</td>\n",
              "      <td>The Diaper Champ doesn\\'t smell - how wonderfu...</td>\n",
              "      <td>4</td>\n",
              "      <td>{'The': 1, 'Diaper': 1, 'Champ': 1, 'doesn\\'t'...</td>\n",
              "      <td>1</td>\n",
              "    </tr>\n",
              "    <tr>\n",
              "      <th>491</th>\n",
              "      <td>Baby Trend Diaper Champ</td>\n",
              "      <td>I can\\'t say enough good things about the Cham...</td>\n",
              "      <td>5</td>\n",
              "      <td>{'I': 7, 'can\\'t': 1, 'say': 2, 'enough': 1, '...</td>\n",
              "      <td>1</td>\n",
              "    </tr>\n",
              "  </tbody>\n",
              "</table>\n",
              "</div>\n",
              "      <button class=\"colab-df-convert\" onclick=\"convertToInteractive('df-f24ddaaa-c2e7-4ba9-aa97-a6c6a0125d8d')\"\n",
              "              title=\"Convert this dataframe to an interactive table.\"\n",
              "              style=\"display:none;\">\n",
              "\n",
              "  <svg xmlns=\"http://www.w3.org/2000/svg\" height=\"24px\"viewBox=\"0 0 24 24\"\n",
              "       width=\"24px\">\n",
              "    <path d=\"M0 0h24v24H0V0z\" fill=\"none\"/>\n",
              "    <path d=\"M18.56 5.44l.94 2.06.94-2.06 2.06-.94-2.06-.94-.94-2.06-.94 2.06-2.06.94zm-11 1L8.5 8.5l.94-2.06 2.06-.94-2.06-.94L8.5 2.5l-.94 2.06-2.06.94zm10 10l.94 2.06.94-2.06 2.06-.94-2.06-.94-.94-2.06-.94 2.06-2.06.94z\"/><path d=\"M17.41 7.96l-1.37-1.37c-.4-.4-.92-.59-1.43-.59-.52 0-1.04.2-1.43.59L10.3 9.45l-7.72 7.72c-.78.78-.78 2.05 0 2.83L4 21.41c.39.39.9.59 1.41.59.51 0 1.02-.2 1.41-.59l7.78-7.78 2.81-2.81c.8-.78.8-2.07 0-2.86zM5.41 20L4 18.59l7.72-7.72 1.47 1.35L5.41 20z\"/>\n",
              "  </svg>\n",
              "      </button>\n",
              "\n",
              "\n",
              "\n",
              "    <div id=\"df-da73032d-170d-490c-a5f5-2e295911fb6f\">\n",
              "      <button class=\"colab-df-quickchart\" onclick=\"quickchart('df-da73032d-170d-490c-a5f5-2e295911fb6f')\"\n",
              "              title=\"Suggest charts.\"\n",
              "              style=\"display:none;\">\n",
              "\n",
              "<svg xmlns=\"http://www.w3.org/2000/svg\" height=\"24px\"viewBox=\"0 0 24 24\"\n",
              "     width=\"24px\">\n",
              "    <g>\n",
              "        <path d=\"M19 3H5c-1.1 0-2 .9-2 2v14c0 1.1.9 2 2 2h14c1.1 0 2-.9 2-2V5c0-1.1-.9-2-2-2zM9 17H7v-7h2v7zm4 0h-2V7h2v10zm4 0h-2v-4h2v4z\"/>\n",
              "    </g>\n",
              "</svg>\n",
              "      </button>\n",
              "    </div>\n",
              "\n",
              "<style>\n",
              "  .colab-df-quickchart {\n",
              "    background-color: #E8F0FE;\n",
              "    border: none;\n",
              "    border-radius: 50%;\n",
              "    cursor: pointer;\n",
              "    display: none;\n",
              "    fill: #1967D2;\n",
              "    height: 32px;\n",
              "    padding: 0 0 0 0;\n",
              "    width: 32px;\n",
              "  }\n",
              "\n",
              "  .colab-df-quickchart:hover {\n",
              "    background-color: #E2EBFA;\n",
              "    box-shadow: 0px 1px 2px rgba(60, 64, 67, 0.3), 0px 1px 3px 1px rgba(60, 64, 67, 0.15);\n",
              "    fill: #174EA6;\n",
              "  }\n",
              "\n",
              "  [theme=dark] .colab-df-quickchart {\n",
              "    background-color: #3B4455;\n",
              "    fill: #D2E3FC;\n",
              "  }\n",
              "\n",
              "  [theme=dark] .colab-df-quickchart:hover {\n",
              "    background-color: #434B5C;\n",
              "    box-shadow: 0px 1px 3px 1px rgba(0, 0, 0, 0.15);\n",
              "    filter: drop-shadow(0px 1px 2px rgba(0, 0, 0, 0.3));\n",
              "    fill: #FFFFFF;\n",
              "  }\n",
              "</style>\n",
              "\n",
              "    <script>\n",
              "      async function quickchart(key) {\n",
              "        const containerElement = document.querySelector('#' + key);\n",
              "        const charts = await google.colab.kernel.invokeFunction(\n",
              "            'suggestCharts', [key], {});\n",
              "      }\n",
              "    </script>\n",
              "\n",
              "      <script>\n",
              "\n",
              "function displayQuickchartButton(domScope) {\n",
              "  let quickchartButtonEl =\n",
              "    domScope.querySelector('#df-da73032d-170d-490c-a5f5-2e295911fb6f button.colab-df-quickchart');\n",
              "  quickchartButtonEl.style.display =\n",
              "    google.colab.kernel.accessAllowed ? 'block' : 'none';\n",
              "}\n",
              "\n",
              "        displayQuickchartButton(document);\n",
              "      </script>\n",
              "      <style>\n",
              "    .colab-df-container {\n",
              "      display:flex;\n",
              "      flex-wrap:wrap;\n",
              "      gap: 12px;\n",
              "    }\n",
              "\n",
              "    .colab-df-convert {\n",
              "      background-color: #E8F0FE;\n",
              "      border: none;\n",
              "      border-radius: 50%;\n",
              "      cursor: pointer;\n",
              "      display: none;\n",
              "      fill: #1967D2;\n",
              "      height: 32px;\n",
              "      padding: 0 0 0 0;\n",
              "      width: 32px;\n",
              "    }\n",
              "\n",
              "    .colab-df-convert:hover {\n",
              "      background-color: #E2EBFA;\n",
              "      box-shadow: 0px 1px 2px rgba(60, 64, 67, 0.3), 0px 1px 3px 1px rgba(60, 64, 67, 0.15);\n",
              "      fill: #174EA6;\n",
              "    }\n",
              "\n",
              "    [theme=dark] .colab-df-convert {\n",
              "      background-color: #3B4455;\n",
              "      fill: #D2E3FC;\n",
              "    }\n",
              "\n",
              "    [theme=dark] .colab-df-convert:hover {\n",
              "      background-color: #434B5C;\n",
              "      box-shadow: 0px 1px 3px 1px rgba(0, 0, 0, 0.15);\n",
              "      filter: drop-shadow(0px 1px 2px rgba(0, 0, 0, 0.3));\n",
              "      fill: #FFFFFF;\n",
              "    }\n",
              "  </style>\n",
              "\n",
              "      <script>\n",
              "        const buttonEl =\n",
              "          document.querySelector('#df-f24ddaaa-c2e7-4ba9-aa97-a6c6a0125d8d button.colab-df-convert');\n",
              "        buttonEl.style.display =\n",
              "          google.colab.kernel.accessAllowed ? 'block' : 'none';\n",
              "\n",
              "        async function convertToInteractive(key) {\n",
              "          const element = document.querySelector('#df-f24ddaaa-c2e7-4ba9-aa97-a6c6a0125d8d');\n",
              "          const dataTable =\n",
              "            await google.colab.kernel.invokeFunction('convertToInteractive',\n",
              "                                                     [key], {});\n",
              "          if (!dataTable) return;\n",
              "\n",
              "          const docLinkHtml = 'Like what you see? Visit the ' +\n",
              "            '<a target=\"_blank\" href=https://colab.research.google.com/notebooks/data_table.ipynb>data table notebook</a>'\n",
              "            + ' to learn more about interactive tables.';\n",
              "          element.innerHTML = '';\n",
              "          dataTable['output_type'] = 'display_data';\n",
              "          await google.colab.output.renderOutput(dataTable, element);\n",
              "          const docLink = document.createElement('div');\n",
              "          docLink.innerHTML = docLinkHtml;\n",
              "          element.appendChild(docLink);\n",
              "        }\n",
              "      </script>\n",
              "    </div>\n",
              "  </div>\n"
            ]
          },
          "metadata": {},
          "execution_count": 32
        }
      ]
    },
    {
      "cell_type": "markdown",
      "metadata": {
        "id": "zW9mHMHymeeW"
      },
      "source": [
        "##Hãy huấn luyện bộ phân loại cảm xúc với LogisticRegression"
      ]
    },
    {
      "cell_type": "code",
      "metadata": {
        "id": "hH56fOgLmeeX",
        "outputId": "bf78a8f6-96db-41cd-d9fa-9b406b6e2e50",
        "colab": {
          "base_uri": "https://localhost:8080/"
        }
      },
      "source": [
        "# WRITE YOUR CODE HERE\n",
        "# xây dựng mô hình LogisticRegression\n",
        "from sklearn.model_selection import train_test_split\n",
        "# ban chỉ lấy cột review và cột sentiment\n",
        "train_data, test_data = train_test_split(products.dropna(subset=(\"review\", \"sentiment\")), train_size=0.8, test_size=0.2, random_state=0)\n",
        "#train_data,test_data = products.random_split(.8, seed=0)\n",
        "print(len(train_data), len(test_data))"
      ],
      "execution_count": null,
      "outputs": [
        {
          "output_type": "stream",
          "name": "stdout",
          "text": [
            "132780 33195\n"
          ]
        }
      ]
    },
    {
      "cell_type": "code",
      "metadata": {
        "id": "ad8IZ4VUmeed",
        "colab": {
          "base_uri": "https://localhost:8080/"
        },
        "outputId": "c50ce14a-e9a4-417f-ca88-538d73ef8cef"
      },
      "source": [
        "# tạo dữ liệu huấn luyện và kiểm tra\n",
        "from sklearn.feature_extraction.text import CountVectorizer\n",
        "# bạn vector hóa tất cả các chữ có trong văn bản của review\n",
        "vectorizer = CountVectorizer(tokenizer=word_tokenize)\n",
        "train_features = vectorizer.fit_transform(train_data['review'].values)\n",
        "train_labels = train_data['sentiment'].astype(int).values\n",
        "test_features = vectorizer.transform(test_data['review'].values)\n",
        "test_labels = test_data['sentiment'].astype(int).values"
      ],
      "execution_count": null,
      "outputs": [
        {
          "output_type": "stream",
          "name": "stderr",
          "text": [
            "/usr/local/lib/python3.10/dist-packages/sklearn/feature_extraction/text.py:528: UserWarning: The parameter 'token_pattern' will not be used since 'tokenizer' is not None'\n",
            "  warnings.warn(\n"
          ]
        }
      ]
    },
    {
      "cell_type": "code",
      "metadata": {
        "id": "Df3e3f5lmeel",
        "outputId": "f3da0417-70c3-4b7e-d5ee-514d6cb5ab63",
        "colab": {
          "base_uri": "https://localhost:8080/"
        }
      },
      "source": [
        "# WRITE YOUR CODE HERE\n",
        "from sklearn.linear_model import LogisticRegression\n",
        "sentiment_model = LogisticRegression(max_iter=1000).fit( train_features , train_labels )"
      ],
      "execution_count": null,
      "outputs": [
        {
          "output_type": "stream",
          "name": "stderr",
          "text": [
            "/usr/local/lib/python3.10/dist-packages/sklearn/linear_model/_logistic.py:458: ConvergenceWarning: lbfgs failed to converge (status=1):\n",
            "STOP: TOTAL NO. of ITERATIONS REACHED LIMIT.\n",
            "\n",
            "Increase the number of iterations (max_iter) or scale the data as shown in:\n",
            "    https://scikit-learn.org/stable/modules/preprocessing.html\n",
            "Please also refer to the documentation for alternative solver options:\n",
            "    https://scikit-learn.org/stable/modules/linear_model.html#logistic-regression\n",
            "  n_iter_i = _check_optimize_result(\n"
          ]
        }
      ]
    },
    {
      "cell_type": "markdown",
      "metadata": {
        "id": "QjEalL5Qmees"
      },
      "source": [
        "#Đánh giá mô hình cảm xúc"
      ]
    },
    {
      "cell_type": "code",
      "metadata": {
        "id": "3rGtv6Fzmeet",
        "outputId": "13e6f967-c38c-4769-d939-910c51e78423",
        "colab": {
          "base_uri": "https://localhost:8080/"
        }
      },
      "source": [
        "print(sentiment_model.predict_proba(test_features[:2])) # trả ra probability dạng np.array\n",
        "print(sentiment_model.predict(test_features[:2])) # trả ra dự đoán"
      ],
      "execution_count": null,
      "outputs": [
        {
          "output_type": "stream",
          "name": "stdout",
          "text": [
            "[[1.12729497e-04 9.99887271e-01]\n",
            " [9.99987051e-01 1.29487696e-05]]\n",
            "[1 0]\n"
          ]
        }
      ]
    },
    {
      "cell_type": "markdown",
      "source": [
        "Các method:\n",
        "Methods\n",
        "\n",
        "\n",
        "```\n",
        "- decision_function(X)\n",
        "\n",
        "Predict confidence scores for samples.\n",
        "\n",
        "- densify()\n",
        "\n",
        "Convert coefficient matrix to dense array format.\n",
        "\n",
        "- fit(X, y[, sample_weight])\n",
        "\n",
        "Fit the model according to the given training data.\n",
        "\n",
        "- get_metadata_routing()\n",
        "\n",
        "Get metadata routing of this object.\n",
        "\n",
        "- get_params([deep])\n",
        "\n",
        "Get parameters for this estimator.\n",
        "\n",
        "- predict(X)\n",
        "\n",
        "Predict class labels for samples in X.\n",
        "\n",
        "- predict_log_proba(X)\n",
        "\n",
        "Predict logarithm of probability estimates.\n",
        "\n",
        "- predict_proba(X)\n",
        "\n",
        "Probability estimates.\n",
        "\n",
        "- score(X, y[, sample_weight])\n",
        "\n",
        "Return the mean accuracy on the given test data and labels.\n",
        "\n",
        "- set_fit_request(*[, sample_weight])\n",
        "\n",
        "Request metadata passed to the fit method.\n",
        "\n",
        "- set_params(**params)\n",
        "\n",
        "Set the parameters of this estimator.\n",
        "\n",
        "- set_score_request(*[, sample_weight])\n",
        "\n",
        "Request metadata passed to the score method.\n",
        "\n",
        "sparsify()\n",
        "\n",
        "- Convert coefficient matrix to sparse format.\n",
        "\n",
        "\n",
        "# This is formatted as code\n",
        "```\n",
        "\n",
        "\n"
      ],
      "metadata": {
        "id": "QXiKEyp1QnYc"
      }
    },
    {
      "cell_type": "code",
      "metadata": {
        "id": "QyR3E2Wamee0",
        "outputId": "1cfb91d5-3356-43d6-f326-b4f1a6461216",
        "colab": {
          "base_uri": "https://localhost:8080/",
          "height": 490
        }
      },
      "source": [
        "#sentiment_model.evaluate(test_data, metric='roc_curve')\n",
        "from sklearn.metrics import roc_curve, roc_auc_score, auc\n",
        "test_predictions = sentiment_model.predict_proba(test_features)[:, 1]\n",
        "fpr, tpr, threshold = roc_curve(test_labels, test_predictions)\n",
        "roc_auc = auc(fpr, tpr)\n",
        "print(\"Model score:\", sentiment_model.score(test_features, test_labels))\n",
        "print(\"FPR/TPR amount:\", len(fpr), len(tpr))\n",
        "\n",
        "plt.plot(fpr, tpr, 'b', label = 'AUC = %0.2f' % roc_auc)\n",
        "plt.plot([0, 1], [0, 1],'r--')\n",
        "plt.xlim([0, 1])\n",
        "plt.ylim([0, 1])\n",
        "plt.ylabel('True Positive Rate')\n",
        "plt.xlabel('False Positive Rate')\n",
        "plt.legend(loc = 'lower right')\n",
        "plt.show() #"
      ],
      "execution_count": null,
      "outputs": [
        {
          "output_type": "stream",
          "name": "stdout",
          "text": [
            "Model score: 0.9352914595571622\n",
            "FPR/TPR amount: 3246 3246\n"
          ]
        },
        {
          "output_type": "display_data",
          "data": {
            "text/plain": [
              "<Figure size 640x480 with 1 Axes>"
            ],
            "image/png": "[encoded data removed]"
          },
          "metadata": {}
        }
      ]
    },
    {
      "cell_type": "code",
      "metadata": {
        "id": "FpGpoPVAmee4"
      },
      "source": [
        "#sentiment_model.show(view='Evaluation')"
      ],
      "execution_count": null,
      "outputs": []
    },
    {
      "cell_type": "code",
      "source": [
        "print(type(sentiment_model.predict_proba(test_features[:2])))"
      ],
      "metadata": {
        "colab": {
          "base_uri": "https://localhost:8080/"
        },
        "id": "rRTsyI-hapVU",
        "outputId": "cdebaa8a-48ca-471e-a2cb-63d179678c91"
      },
      "execution_count": null,
      "outputs": [
        {
          "output_type": "stream",
          "name": "stdout",
          "text": [
            "<class 'numpy.ndarray'>\n"
          ]
        }
      ]
    },
    {
      "cell_type": "markdown",
      "metadata": {
        "id": "9GC8INhAmee9"
      },
      "source": [
        "#Áp dụng mô hình đã học để biết cảm xúc cho các bình luận về đồ chơi Giraffe"
      ]
    },
    {
      "cell_type": "code",
      "metadata": {
        "id": "FvzoLIxQmee-"
      },
      "source": [
        "giraffe_reviews = giraffe_reviews.dropna(subset=['review'])\n",
        "giraffe_reviews_features = vectorizer.transform(giraffe_reviews['review'].values)\n",
        "giraffe_reviews['predicted_sentiment'] = sentiment_model.predict_proba(giraffe_reviews_features)[:, 1]"
      ],
      "execution_count": null,
      "outputs": []
    },
    {
      "cell_type": "code",
      "metadata": {
        "id": "h9Om_9pTmefE",
        "outputId": "be3e4dc3-dabd-4997-fe93-3a45f740b126",
        "colab": {
          "base_uri": "https://localhost:8080/",
          "height": 206
        }
      },
      "source": [
        "giraffe_reviews.head()"
      ],
      "execution_count": null,
      "outputs": [
        {
          "output_type": "execute_result",
          "data": {
            "text/plain": [
              "                                   name  \\\n",
              "34313  Vulli Sophie the Giraffe Teether   \n",
              "34314  Vulli Sophie the Giraffe Teether   \n",
              "34315  Vulli Sophie the Giraffe Teether   \n",
              "34316  Vulli Sophie the Giraffe Teether   \n",
              "34317  Vulli Sophie the Giraffe Teether   \n",
              "\n",
              "                                                  review  rating  \\\n",
              "34313  He likes chewing on all the parts especially t...       5   \n",
              "34314  My son loves this toy and fits great in the di...       5   \n",
              "34315  There really should be a large warning on the ...       1   \n",
              "34316  All the moms in my moms\\' group got Sophie for...       5   \n",
              "34317  I was a little skeptical on whether Sophie was...       5   \n",
              "\n",
              "                                              word_count  predicted_sentiment  \n",
              "34313  {'He': 1, 'likes': 1, 'chewing': 1, 'on': 1, '...             0.998963  \n",
              "34314  {'My': 1, 'son': 1, 'loves': 1, 'this': 1, 'to...             0.999738  \n",
              "34315  {'There': 1, 'really': 1, 'should': 1, 'be': 1...             0.172824  \n",
              "34316  {'All': 1, 'the': 2, 'moms': 1, 'in': 1, 'my':...             0.973299  \n",
              "34317  {'I': 4, 'was': 2, 'a': 1, 'little': 1, 'skept...             0.387724  "
            ],
            "text/html": [
              "\n",
              "\n",
              "  <div id=\"df-fe8c4d91-7da8-4a03-b237-590160a11683\">\n",
              "    <div class=\"colab-df-container\">\n",
              "      <div>\n",
              "<style scoped>\n",
              "    .dataframe tbody tr th:only-of-type {\n",
              "        vertical-align: middle;\n",
              "    }\n",
              "\n",
              "    .dataframe tbody tr th {\n",
              "        vertical-align: top;\n",
              "    }\n",
              "\n",
              "    .dataframe thead th {\n",
              "        text-align: right;\n",
              "    }\n",
              "</style>\n",
              "<table border=\"1\" class=\"dataframe\">\n",
              "  <thead>\n",
              "    <tr style=\"text-align: right;\">\n",
              "      <th></th>\n",
              "      <th>name</th>\n",
              "      <th>review</th>\n",
              "      <th>rating</th>\n",
              "      <th>word_count</th>\n",
              "      <th>predicted_sentiment</th>\n",
              "    </tr>\n",
              "  </thead>\n",
              "  <tbody>\n",
              "    <tr>\n",
              "      <th>34313</th>\n",
              "      <td>Vulli Sophie the Giraffe Teether</td>\n",
              "      <td>He likes chewing on all the parts especially t...</td>\n",
              "      <td>5</td>\n",
              "      <td>{'He': 1, 'likes': 1, 'chewing': 1, 'on': 1, '...</td>\n",
              "      <td>0.998963</td>\n",
              "    </tr>\n",
              "    <tr>\n",
              "      <th>34314</th>\n",
              "      <td>Vulli Sophie the Giraffe Teether</td>\n",
              "      <td>My son loves this toy and fits great in the di...</td>\n",
              "      <td>5</td>\n",
              "      <td>{'My': 1, 'son': 1, 'loves': 1, 'this': 1, 'to...</td>\n",
              "      <td>0.999738</td>\n",
              "    </tr>\n",
              "    <tr>\n",
              "      <th>34315</th>\n",
              "      <td>Vulli Sophie the Giraffe Teether</td>\n",
              "      <td>There really should be a large warning on the ...</td>\n",
              "      <td>1</td>\n",
              "      <td>{'There': 1, 'really': 1, 'should': 1, 'be': 1...</td>\n",
              "      <td>0.172824</td>\n",
              "    </tr>\n",
              "    <tr>\n",
              "      <th>34316</th>\n",
              "      <td>Vulli Sophie the Giraffe Teether</td>\n",
              "      <td>All the moms in my moms\\' group got Sophie for...</td>\n",
              "      <td>5</td>\n",
              "      <td>{'All': 1, 'the': 2, 'moms': 1, 'in': 1, 'my':...</td>\n",
              "      <td>0.973299</td>\n",
              "    </tr>\n",
              "    <tr>\n",
              "      <th>34317</th>\n",
              "      <td>Vulli Sophie the Giraffe Teether</td>\n",
              "      <td>I was a little skeptical on whether Sophie was...</td>\n",
              "      <td>5</td>\n",
              "      <td>{'I': 4, 'was': 2, 'a': 1, 'little': 1, 'skept...</td>\n",
              "      <td>0.387724</td>\n",
              "    </tr>\n",
              "  </tbody>\n",
              "</table>\n",
              "</div>\n",
              "      <button class=\"colab-df-convert\" onclick=\"convertToInteractive('df-fe8c4d91-7da8-4a03-b237-590160a11683')\"\n",
              "              title=\"Convert this dataframe to an interactive table.\"\n",
              "              style=\"display:none;\">\n",
              "\n",
              "  <svg xmlns=\"http://www.w3.org/2000/svg\" height=\"24px\"viewBox=\"0 0 24 24\"\n",
              "       width=\"24px\">\n",
              "    <path d=\"M0 0h24v24H0V0z\" fill=\"none\"/>\n",
              "    <path d=\"M18.56 5.44l.94 2.06.94-2.06 2.06-.94-2.06-.94-.94-2.06-.94 2.06-2.06.94zm-11 1L8.5 8.5l.94-2.06 2.06-.94-2.06-.94L8.5 2.5l-.94 2.06-2.06.94zm10 10l.94 2.06.94-2.06 2.06-.94-2.06-.94-.94-2.06-.94 2.06-2.06.94z\"/><path d=\"M17.41 7.96l-1.37-1.37c-.4-.4-.92-.59-1.43-.59-.52 0-1.04.2-1.43.59L10.3 9.45l-7.72 7.72c-.78.78-.78 2.05 0 2.83L4 21.41c.39.39.9.59 1.41.59.51 0 1.02-.2 1.41-.59l7.78-7.78 2.81-2.81c.8-.78.8-2.07 0-2.86zM5.41 20L4 18.59l7.72-7.72 1.47 1.35L5.41 20z\"/>\n",
              "  </svg>\n",
              "      </button>\n",
              "\n",
              "\n",
              "\n",
              "    <div id=\"df-1adbb308-e3cd-4499-825f-36be141bd160\">\n",
              "      <button class=\"colab-df-quickchart\" onclick=\"quickchart('df-1adbb308-e3cd-4499-825f-36be141bd160')\"\n",
              "              title=\"Suggest charts.\"\n",
              "              style=\"display:none;\">\n",
              "\n",
              "<svg xmlns=\"http://www.w3.org/2000/svg\" height=\"24px\"viewBox=\"0 0 24 24\"\n",
              "     width=\"24px\">\n",
              "    <g>\n",
              "        <path d=\"M19 3H5c-1.1 0-2 .9-2 2v14c0 1.1.9 2 2 2h14c1.1 0 2-.9 2-2V5c0-1.1-.9-2-2-2zM9 17H7v-7h2v7zm4 0h-2V7h2v10zm4 0h-2v-4h2v4z\"/>\n",
              "    </g>\n",
              "</svg>\n",
              "      </button>\n",
              "    </div>\n",
              "\n",
              "<style>\n",
              "  .colab-df-quickchart {\n",
              "    background-color: #E8F0FE;\n",
              "    border: none;\n",
              "    border-radius: 50%;\n",
              "    cursor: pointer;\n",
              "    display: none;\n",
              "    fill: #1967D2;\n",
              "    height: 32px;\n",
              "    padding: 0 0 0 0;\n",
              "    width: 32px;\n",
              "  }\n",
              "\n",
              "  .colab-df-quickchart:hover {\n",
              "    background-color: #E2EBFA;\n",
              "    box-shadow: 0px 1px 2px rgba(60, 64, 67, 0.3), 0px 1px 3px 1px rgba(60, 64, 67, 0.15);\n",
              "    fill: #174EA6;\n",
              "  }\n",
              "\n",
              "  [theme=dark] .colab-df-quickchart {\n",
              "    background-color: #3B4455;\n",
              "    fill: #D2E3FC;\n",
              "  }\n",
              "\n",
              "  [theme=dark] .colab-df-quickchart:hover {\n",
              "    background-color: #434B5C;\n",
              "    box-shadow: 0px 1px 3px 1px rgba(0, 0, 0, 0.15);\n",
              "    filter: drop-shadow(0px 1px 2px rgba(0, 0, 0, 0.3));\n",
              "    fill: #FFFFFF;\n",
              "  }\n",
              "</style>\n",
              "\n",
              "    <script>\n",
              "      async function quickchart(key) {\n",
              "        const containerElement = document.querySelector('#' + key);\n",
              "        const charts = await google.colab.kernel.invokeFunction(\n",
              "            'suggestCharts', [key], {});\n",
              "      }\n",
              "    </script>\n",
              "\n",
              "      <script>\n",
              "\n",
              "function displayQuickchartButton(domScope) {\n",
              "  let quickchartButtonEl =\n",
              "    domScope.querySelector('#df-1adbb308-e3cd-4499-825f-36be141bd160 button.colab-df-quickchart');\n",
              "  quickchartButtonEl.style.display =\n",
              "    google.colab.kernel.accessAllowed ? 'block' : 'none';\n",
              "}\n",
              "\n",
              "        displayQuickchartButton(document);\n",
              "      </script>\n",
              "      <style>\n",
              "    .colab-df-container {\n",
              "      display:flex;\n",
              "      flex-wrap:wrap;\n",
              "      gap: 12px;\n",
              "    }\n",
              "\n",
              "    .colab-df-convert {\n",
              "      background-color: #E8F0FE;\n",
              "      border: none;\n",
              "      border-radius: 50%;\n",
              "      cursor: pointer;\n",
              "      display: none;\n",
              "      fill: #1967D2;\n",
              "      height: 32px;\n",
              "      padding: 0 0 0 0;\n",
              "      width: 32px;\n",
              "    }\n",
              "\n",
              "    .colab-df-convert:hover {\n",
              "      background-color: #E2EBFA;\n",
              "      box-shadow: 0px 1px 2px rgba(60, 64, 67, 0.3), 0px 1px 3px 1px rgba(60, 64, 67, 0.15);\n",
              "      fill: #174EA6;\n",
              "    }\n",
              "\n",
              "    [theme=dark] .colab-df-convert {\n",
              "      background-color: #3B4455;\n",
              "      fill: #D2E3FC;\n",
              "    }\n",
              "\n",
              "    [theme=dark] .colab-df-convert:hover {\n",
              "      background-color: #434B5C;\n",
              "      box-shadow: 0px 1px 3px 1px rgba(0, 0, 0, 0.15);\n",
              "      filter: drop-shadow(0px 1px 2px rgba(0, 0, 0, 0.3));\n",
              "      fill: #FFFFFF;\n",
              "    }\n",
              "  </style>\n",
              "\n",
              "      <script>\n",
              "        const buttonEl =\n",
              "          document.querySelector('#df-fe8c4d91-7da8-4a03-b237-590160a11683 button.colab-df-convert');\n",
              "        buttonEl.style.display =\n",
              "          google.colab.kernel.accessAllowed ? 'block' : 'none';\n",
              "\n",
              "        async function convertToInteractive(key) {\n",
              "          const element = document.querySelector('#df-fe8c4d91-7da8-4a03-b237-590160a11683');\n",
              "          const dataTable =\n",
              "            await google.colab.kernel.invokeFunction('convertToInteractive',\n",
              "                                                     [key], {});\n",
              "          if (!dataTable) return;\n",
              "\n",
              "          const docLinkHtml = 'Like what you see? Visit the ' +\n",
              "            '<a target=\"_blank\" href=https://colab.research.google.com/notebooks/data_table.ipynb>data table notebook</a>'\n",
              "            + ' to learn more about interactive tables.';\n",
              "          element.innerHTML = '';\n",
              "          dataTable['output_type'] = 'display_data';\n",
              "          await google.colab.output.renderOutput(dataTable, element);\n",
              "          const docLink = document.createElement('div');\n",
              "          docLink.innerHTML = docLinkHtml;\n",
              "          element.appendChild(docLink);\n",
              "        }\n",
              "      </script>\n",
              "    </div>\n",
              "  </div>\n"
            ]
          },
          "metadata": {},
          "execution_count": 42
        }
      ]
    },
    {
      "cell_type": "markdown",
      "metadata": {
        "id": "PfyFNRb6mefK"
      },
      "source": [
        "##Sắp xếp các bình luận dựa trên cảm xúc đã dự đoán và khám phá"
      ]
    },
    {
      "cell_type": "code",
      "metadata": {
        "id": "WnqsiyCFmefL"
      },
      "source": [
        "giraffe_reviews = giraffe_reviews.sort_values('predicted_sentiment', ascending=False)"
      ],
      "execution_count": null,
      "outputs": []
    },
    {
      "cell_type": "code",
      "metadata": {
        "id": "Jc3lGguemefT",
        "outputId": "ef47b104-032d-4aac-db31-35469628e188",
        "colab": {
          "base_uri": "https://localhost:8080/",
          "height": 206
        }
      },
      "source": [
        "giraffe_reviews.head()"
      ],
      "execution_count": null,
      "outputs": [
        {
          "output_type": "execute_result",
          "data": {
            "text/plain": [
              "                                   name  \\\n",
              "34892  Vulli Sophie the Giraffe Teether   \n",
              "34434  Vulli Sophie the Giraffe Teether   \n",
              "34515  Vulli Sophie the Giraffe Teether   \n",
              "34442  Vulli Sophie the Giraffe Teether   \n",
              "34746  Vulli Sophie the Giraffe Teether   \n",
              "\n",
              "                                                  review  rating  \\\n",
              "34892  Sophie, oh Sophie, your time has come. My gran...       5   \n",
              "34434  My Mom-in-Law bought Sophie for my son when he...       5   \n",
              "34515  As every mom knows, you always want to give yo...       5   \n",
              "34442  Yes, it\\'s imported. Yes, it\\'s expensive. And...       5   \n",
              "34746  Sophie the Giraffe is the perfect teething toy...       5   \n",
              "\n",
              "                                              word_count  predicted_sentiment  \n",
              "34892  {'Sophie': 17, ',': 8, 'oh': 1, 'your': 1, 'ti...                  1.0  \n",
              "34434  {'My': 1, 'Mom-in-Law': 1, 'bought': 1, 'Sophi...                  1.0  \n",
              "34515  {'As': 1, 'every': 1, 'mom': 1, 'knows': 1, ',...                  1.0  \n",
              "34442  {'Yes': 2, ',': 14, 'it\\': 4, ''s': 6, 'import...                  1.0  \n",
              "34746  {'Sophie': 5, 'the': 6, 'Giraffe': 1, 'is': 7,...                  1.0  "
            ],
            "text/html": [
              "\n",
              "\n",
              "  <div id=\"df-3107b67a-3f66-43ff-9b8b-00c4711590a6\">\n",
              "    <div class=\"colab-df-container\">\n",
              "      <div>\n",
              "<style scoped>\n",
              "    .dataframe tbody tr th:only-of-type {\n",
              "        vertical-align: middle;\n",
              "    }\n",
              "\n",
              "    .dataframe tbody tr th {\n",
              "        vertical-align: top;\n",
              "    }\n",
              "\n",
              "    .dataframe thead th {\n",
              "        text-align: right;\n",
              "    }\n",
              "</style>\n",
              "<table border=\"1\" class=\"dataframe\">\n",
              "  <thead>\n",
              "    <tr style=\"text-align: right;\">\n",
              "      <th></th>\n",
              "      <th>name</th>\n",
              "      <th>review</th>\n",
              "      <th>rating</th>\n",
              "      <th>word_count</th>\n",
              "      <th>predicted_sentiment</th>\n",
              "    </tr>\n",
              "  </thead>\n",
              "  <tbody>\n",
              "    <tr>\n",
              "      <th>34892</th>\n",
              "      <td>Vulli Sophie the Giraffe Teether</td>\n",
              "      <td>Sophie, oh Sophie, your time has come. My gran...</td>\n",
              "      <td>5</td>\n",
              "      <td>{'Sophie': 17, ',': 8, 'oh': 1, 'your': 1, 'ti...</td>\n",
              "      <td>1.0</td>\n",
              "    </tr>\n",
              "    <tr>\n",
              "      <th>34434</th>\n",
              "      <td>Vulli Sophie the Giraffe Teether</td>\n",
              "      <td>My Mom-in-Law bought Sophie for my son when he...</td>\n",
              "      <td>5</td>\n",
              "      <td>{'My': 1, 'Mom-in-Law': 1, 'bought': 1, 'Sophi...</td>\n",
              "      <td>1.0</td>\n",
              "    </tr>\n",
              "    <tr>\n",
              "      <th>34515</th>\n",
              "      <td>Vulli Sophie the Giraffe Teether</td>\n",
              "      <td>As every mom knows, you always want to give yo...</td>\n",
              "      <td>5</td>\n",
              "      <td>{'As': 1, 'every': 1, 'mom': 1, 'knows': 1, ',...</td>\n",
              "      <td>1.0</td>\n",
              "    </tr>\n",
              "    <tr>\n",
              "      <th>34442</th>\n",
              "      <td>Vulli Sophie the Giraffe Teether</td>\n",
              "      <td>Yes, it\\'s imported. Yes, it\\'s expensive. And...</td>\n",
              "      <td>5</td>\n",
              "      <td>{'Yes': 2, ',': 14, 'it\\': 4, ''s': 6, 'import...</td>\n",
              "      <td>1.0</td>\n",
              "    </tr>\n",
              "    <tr>\n",
              "      <th>34746</th>\n",
              "      <td>Vulli Sophie the Giraffe Teether</td>\n",
              "      <td>Sophie the Giraffe is the perfect teething toy...</td>\n",
              "      <td>5</td>\n",
              "      <td>{'Sophie': 5, 'the': 6, 'Giraffe': 1, 'is': 7,...</td>\n",
              "      <td>1.0</td>\n",
              "    </tr>\n",
              "  </tbody>\n",
              "</table>\n",
              "</div>\n",
              "      <button class=\"colab-df-convert\" onclick=\"convertToInteractive('df-3107b67a-3f66-43ff-9b8b-00c4711590a6')\"\n",
              "              title=\"Convert this dataframe to an interactive table.\"\n",
              "              style=\"display:none;\">\n",
              "\n",
              "  <svg xmlns=\"http://www.w3.org/2000/svg\" height=\"24px\"viewBox=\"0 0 24 24\"\n",
              "       width=\"24px\">\n",
              "    <path d=\"M0 0h24v24H0V0z\" fill=\"none\"/>\n",
              "    <path d=\"M18.56 5.44l.94 2.06.94-2.06 2.06-.94-2.06-.94-.94-2.06-.94 2.06-2.06.94zm-11 1L8.5 8.5l.94-2.06 2.06-.94-2.06-.94L8.5 2.5l-.94 2.06-2.06.94zm10 10l.94 2.06.94-2.06 2.06-.94-2.06-.94-.94-2.06-.94 2.06-2.06.94z\"/><path d=\"M17.41 7.96l-1.37-1.37c-.4-.4-.92-.59-1.43-.59-.52 0-1.04.2-1.43.59L10.3 9.45l-7.72 7.72c-.78.78-.78 2.05 0 2.83L4 21.41c.39.39.9.59 1.41.59.51 0 1.02-.2 1.41-.59l7.78-7.78 2.81-2.81c.8-.78.8-2.07 0-2.86zM5.41 20L4 18.59l7.72-7.72 1.47 1.35L5.41 20z\"/>\n",
              "  </svg>\n",
              "      </button>\n",
              "\n",
              "\n",
              "\n",
              "    <div id=\"df-6bd1c396-762b-4731-8565-d0eeab92ff1a\">\n",
              "      <button class=\"colab-df-quickchart\" onclick=\"quickchart('df-6bd1c396-762b-4731-8565-d0eeab92ff1a')\"\n",
              "              title=\"Suggest charts.\"\n",
              "              style=\"display:none;\">\n",
              "\n",
              "<svg xmlns=\"http://www.w3.org/2000/svg\" height=\"24px\"viewBox=\"0 0 24 24\"\n",
              "     width=\"24px\">\n",
              "    <g>\n",
              "        <path d=\"M19 3H5c-1.1 0-2 .9-2 2v14c0 1.1.9 2 2 2h14c1.1 0 2-.9 2-2V5c0-1.1-.9-2-2-2zM9 17H7v-7h2v7zm4 0h-2V7h2v10zm4 0h-2v-4h2v4z\"/>\n",
              "    </g>\n",
              "</svg>\n",
              "      </button>\n",
              "    </div>\n",
              "\n",
              "<style>\n",
              "  .colab-df-quickchart {\n",
              "    background-color: #E8F0FE;\n",
              "    border: none;\n",
              "    border-radius: 50%;\n",
              "    cursor: pointer;\n",
              "    display: none;\n",
              "    fill: #1967D2;\n",
              "    height: 32px;\n",
              "    padding: 0 0 0 0;\n",
              "    width: 32px;\n",
              "  }\n",
              "\n",
              "  .colab-df-quickchart:hover {\n",
              "    background-color: #E2EBFA;\n",
              "    box-shadow: 0px 1px 2px rgba(60, 64, 67, 0.3), 0px 1px 3px 1px rgba(60, 64, 67, 0.15);\n",
              "    fill: #174EA6;\n",
              "  }\n",
              "\n",
              "  [theme=dark] .colab-df-quickchart {\n",
              "    background-color: #3B4455;\n",
              "    fill: #D2E3FC;\n",
              "  }\n",
              "\n",
              "  [theme=dark] .colab-df-quickchart:hover {\n",
              "    background-color: #434B5C;\n",
              "    box-shadow: 0px 1px 3px 1px rgba(0, 0, 0, 0.15);\n",
              "    filter: drop-shadow(0px 1px 2px rgba(0, 0, 0, 0.3));\n",
              "    fill: #FFFFFF;\n",
              "  }\n",
              "</style>\n",
              "\n",
              "    <script>\n",
              "      async function quickchart(key) {\n",
              "        const containerElement = document.querySelector('#' + key);\n",
              "        const charts = await google.colab.kernel.invokeFunction(\n",
              "            'suggestCharts', [key], {});\n",
              "      }\n",
              "    </script>\n",
              "\n",
              "      <script>\n",
              "\n",
              "function displayQuickchartButton(domScope) {\n",
              "  let quickchartButtonEl =\n",
              "    domScope.querySelector('#df-6bd1c396-762b-4731-8565-d0eeab92ff1a button.colab-df-quickchart');\n",
              "  quickchartButtonEl.style.display =\n",
              "    google.colab.kernel.accessAllowed ? 'block' : 'none';\n",
              "}\n",
              "\n",
              "        displayQuickchartButton(document);\n",
              "      </script>\n",
              "      <style>\n",
              "    .colab-df-container {\n",
              "      display:flex;\n",
              "      flex-wrap:wrap;\n",
              "      gap: 12px;\n",
              "    }\n",
              "\n",
              "    .colab-df-convert {\n",
              "      background-color: #E8F0FE;\n",
              "      border: none;\n",
              "      border-radius: 50%;\n",
              "      cursor: pointer;\n",
              "      display: none;\n",
              "      fill: #1967D2;\n",
              "      height: 32px;\n",
              "      padding: 0 0 0 0;\n",
              "      width: 32px;\n",
              "    }\n",
              "\n",
              "    .colab-df-convert:hover {\n",
              "      background-color: #E2EBFA;\n",
              "      box-shadow: 0px 1px 2px rgba(60, 64, 67, 0.3), 0px 1px 3px 1px rgba(60, 64, 67, 0.15);\n",
              "      fill: #174EA6;\n",
              "    }\n",
              "\n",
              "    [theme=dark] .colab-df-convert {\n",
              "      background-color: #3B4455;\n",
              "      fill: #D2E3FC;\n",
              "    }\n",
              "\n",
              "    [theme=dark] .colab-df-convert:hover {\n",
              "      background-color: #434B5C;\n",
              "      box-shadow: 0px 1px 3px 1px rgba(0, 0, 0, 0.15);\n",
              "      filter: drop-shadow(0px 1px 2px rgba(0, 0, 0, 0.3));\n",
              "      fill: #FFFFFF;\n",
              "    }\n",
              "  </style>\n",
              "\n",
              "      <script>\n",
              "        const buttonEl =\n",
              "          document.querySelector('#df-3107b67a-3f66-43ff-9b8b-00c4711590a6 button.colab-df-convert');\n",
              "        buttonEl.style.display =\n",
              "          google.colab.kernel.accessAllowed ? 'block' : 'none';\n",
              "\n",
              "        async function convertToInteractive(key) {\n",
              "          const element = document.querySelector('#df-3107b67a-3f66-43ff-9b8b-00c4711590a6');\n",
              "          const dataTable =\n",
              "            await google.colab.kernel.invokeFunction('convertToInteractive',\n",
              "                                                     [key], {});\n",
              "          if (!dataTable) return;\n",
              "\n",
              "          const docLinkHtml = 'Like what you see? Visit the ' +\n",
              "            '<a target=\"_blank\" href=https://colab.research.google.com/notebooks/data_table.ipynb>data table notebook</a>'\n",
              "            + ' to learn more about interactive tables.';\n",
              "          element.innerHTML = '';\n",
              "          dataTable['output_type'] = 'display_data';\n",
              "          await google.colab.output.renderOutput(dataTable, element);\n",
              "          const docLink = document.createElement('div');\n",
              "          docLink.innerHTML = docLinkHtml;\n",
              "          element.appendChild(docLink);\n",
              "        }\n",
              "      </script>\n",
              "    </div>\n",
              "  </div>\n"
            ]
          },
          "metadata": {},
          "execution_count": 44
        }
      ]
    },
    {
      "cell_type": "markdown",
      "metadata": {
        "id": "N0waZzmbmefa"
      },
      "source": [
        "##Các bình luận tích cực nhất về đồ chơi giraffe"
      ]
    },
    {
      "cell_type": "code",
      "metadata": {
        "id": "b9iHK5H5mefc",
        "colab": {
          "base_uri": "https://localhost:8080/"
        },
        "outputId": "799b0222-539e-40f9-a9a5-8f241ff29bfd"
      },
      "source": [
        "a = giraffe_reviews['review'].values[0]\n",
        "print(type(a))"
      ],
      "execution_count": null,
      "outputs": [
        {
          "output_type": "stream",
          "name": "stdout",
          "text": [
            "<class 'str'>\n"
          ]
        }
      ]
    },
    {
      "cell_type": "code",
      "metadata": {
        "id": "IXR2vKwCmefk",
        "colab": {
          "base_uri": "https://localhost:8080/",
          "height": 126
        },
        "outputId": "1164192b-afe5-4084-9539-3e38d0dbd573"
      },
      "source": [
        "giraffe_reviews['review'].iloc[1]"
      ],
      "execution_count": null,
      "outputs": [
        {
          "output_type": "execute_result",
          "data": {
            "text/plain": [
              "'My Mom-in-Law bought Sophie for my son when he was just starting to really chew on things (and we were hearing some pretty scary things about toys not made in the USA). She did some research and came across Sophie and we are so glad that she did! While Sophie doesn\\\\\\'t come from the USA, we love the fact that she is 100% safe and natural, and my son loves to play with her. I also love how soft Sophie is, my son tends to swing his toys around and when he\\\\\\'s sitting on my lap I\\\\\\'m usually in danger of being hit in the face with whatever he\\\\\\'s holding, needless to say a soft toy is even better in my book! There\\\\\\'s one last thing I want to comment on, I\\\\\\'ve read reviews that said that Sophie was a \"glorified dog toy\" or something to that effect, and I don\\\\\\'t want to seem rude, but I think they\\\\\\'re crazy! Yes Sophie does squeak, (which my son didn\\\\\\'t care about much at first but now he loves) but that\\\\\\'s about as far as the comparison could go! If you want a quality teething toy for your child then look no further! Sophie is adorable, soft, perfect for little hands, 100% natural, and SAFE!!!!!!! Definitely worth every penny!!'"
            ],
            "application/vnd.google.colaboratory.intrinsic+json": {
              "type": "string"
            }
          },
          "metadata": {},
          "execution_count": 51
        }
      ]
    },
    {
      "cell_type": "markdown",
      "metadata": {
        "id": "YYoGbBHqmefr"
      },
      "source": [
        "##Các bình luận tiêu cực nhất về đồ chơi giraffe"
      ]
    },
    {
      "cell_type": "code",
      "metadata": {
        "id": "ewhKCIaBmefs",
        "colab": {
          "base_uri": "https://localhost:8080/",
          "height": 140
        },
        "outputId": "e894d295-3f6a-401b-9014-23f737c356a1"
      },
      "source": [
        "giraffe_reviews['review'].values[-1]"
      ],
      "execution_count": null,
      "outputs": [
        {
          "output_type": "execute_result",
          "data": {
            "text/plain": [
              "'I wanted to love this product and was excited to buy it when I became pregnant but am now hesitant to let my baby use it after reading about the recall in Europe. Apparently, as I understand it, their toxin standards of measurement are lower than ours so they have not been recalled here (apparently we are OK with low levels of nitrates in the toys our children put in their mouths, but Europeans are not...hmmm)...Be that as it may, toxins registering even CLOSE to a dangerous level made me nervous about using. After digging around online I did discover that the company claims to have changed the product after a certain date and lists manufacturing codes so you can check yours (those listed were made after a certain date and are said to be safer). Sadly mine was not made after the &#34;improved&#34; date but I could not return it because there was no formal recall in our country. I considered returning it and hunting for one with an approved manufacturing date but man that was just too much work. Bummed but not ready to take a risk with my baby.'"
            ],
            "application/vnd.google.colaboratory.intrinsic+json": {
              "type": "string"
            }
          },
          "metadata": {},
          "execution_count": 47
        }
      ]
    },
    {
      "cell_type": "code",
      "metadata": {
        "id": "WEdntSCFmef6",
        "colab": {
          "base_uri": "https://localhost:8080/",
          "height": 140
        },
        "outputId": "76be93e9-55ef-4950-a5a4-9ec3759d2c66"
      },
      "source": [
        "giraffe_reviews['review'].values[-2]"
      ],
      "execution_count": null,
      "outputs": [
        {
          "output_type": "execute_result",
          "data": {
            "text/plain": [
              "\"I was so looking forward to getting this for my little girl, but from the second I opened the box I was disappointed.  It didn\\\\'t smell like vanilla rubber; it smelled like latex.  I don\\\\'t get HOW it can be called a teether.  It is a squeak toy.  Period.  It is completely hollow and has an obnoxious squeak when you barely even touch it.  It is so flexible that I don\\\\'t see how a- it can be safe (which reading some of the other negative reviews I now see that it probably isn\\\\'t safe) or b- can be effective.  This thing gives at the slightest touch, so how can it possibly aid in cutting teeth or massaging the gums?Additionally, you cannot sterilize this toy.  So... let\\\\'s see.  My baby got thrush when she was only 2 weeks old and I had to sterilize everything that came in contact with her mouth.  What would I have done with this then?  And she just got over her first cold, so again everything was sterilized.  You need to sterilize things with a baby- you just do.  How can this be a toy that you can\\\\'t sterilize?!?I will be going to Barnes and Noble tomorrow to compare and see if this is the same as what they have there, but either way I\\\\'m sorely disappointed in this purchase.  I\\\\'ve bought dog toys that would have made better teethers.  Heck, I have a baby Garanimals water toy giraffe that would be a safer and more effective teether.  **I have two other toys by Vulli and they DO HAVE the natural rubber smell.  This is going back to Amazon.**\""
            ],
            "application/vnd.google.colaboratory.intrinsic+json": {
              "type": "string"
            }
          },
          "metadata": {},
          "execution_count": 48
        }
      ]
    },
    {
      "cell_type": "code",
      "metadata": {
        "id": "HILWrRgvmef_"
      },
      "source": [],
      "execution_count": null,
      "outputs": []
    }
  ]
}
