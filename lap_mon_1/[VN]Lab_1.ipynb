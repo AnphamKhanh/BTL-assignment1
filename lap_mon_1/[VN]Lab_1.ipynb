{
 "cells": [
  {
   "cell_type": "code",
   "execution_count": 1,
   "id": "c15fd964",
   "metadata": {},
   "outputs": [
    {
     "data": {
      "text/plain": [
       "2"
      ]
     },
     "execution_count": 1,
     "metadata": {},
     "output_type": "execute_result"
    }
   ],
   "source": [
    "1+ 1"
   ]
  },
  {
   "cell_type": "markdown",
   "id": "292d5efa",
   "metadata": {},
   "source": [
    "My title"
   ]
  },
  {
   "cell_type": "markdown",
   "id": "235372c2",
   "metadata": {},
   "source": [
    "https://cognitiveclass.ai/"
   ]
  },
  {
   "cell_type": "markdown",
   "id": "03aa4a2d",
   "metadata": {},
   "source": [
    "# Header 1"
   ]
  },
  {
   "cell_type": "markdown",
   "id": "eb4012c0",
   "metadata": {},
   "source": [
    "|a1|a2|a3|\n",
    "|------|------|------|\n",
    "|b1|b2|b3|\n",
    "|c1|c2|c3|\n",
    "|d1|d2|d4|"
   ]
  }
 ],
 "metadata": {
  "kernelspec": {
   "display_name": "Python 3 (ipykernel)",
   "language": "python",
   "name": "python3"
  },
  "language_info": {
   "codemirror_mode": {
    "name": "ipython",
    "version": 3
   },
   "file_extension": ".py",
   "mimetype": "text/x-python",
   "name": "python",
   "nbconvert_exporter": "python",
   "pygments_lexer": "ipython3",
   "version": "3.9.13"
  }
 },
 "nbformat": 4,
 "nbformat_minor": 5
}
